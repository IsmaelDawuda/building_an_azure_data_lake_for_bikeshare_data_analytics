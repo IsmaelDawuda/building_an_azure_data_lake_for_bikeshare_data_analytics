{
 "cells": [
  {
   "cell_type": "code",
   "execution_count": 0,
   "metadata": {
    "application/vnd.databricks.v1+cell": {
     "cellMetadata": {
      "byteLimit": 2048000,
      "rowLimit": 10000
     },
     "inputWidgets": {},
     "nuid": "e60c1c45-6116-4356-8df9-3a39c2c53e72",
     "showTitle": false,
     "tableResultSettingsMap": {},
     "title": ""
    }
   },
   "outputs": [
    {
     "output_type": "display_data",
     "data": {
      "text/html": [
       "<style scoped>\n",
       "  .ansiout {\n",
       "    display: block;\n",
       "    unicode-bidi: embed;\n",
       "    white-space: pre-wrap;\n",
       "    word-wrap: break-word;\n",
       "    word-break: break-all;\n",
       "    font-family: \"Menlo\", \"Monaco\", \"Consolas\", \"Ubuntu Mono\", \"Source Code Pro\", monospace;\n",
       "    font-size: 13px;\n",
       "    color: #555;\n",
       "    margin-left: 4px;\n",
       "    line-height: 19px;\n",
       "  }\n",
       "</style>\n",
       "<div class=\"ansiout\"></div>"
      ]
     },
     "metadata": {
      "application/vnd.databricks.v1+output": {
       "addedWidgets": {},
       "arguments": {},
       "data": "<div class=\"ansiout\"></div>",
       "datasetInfos": [],
       "metadata": {},
       "removedWidgets": [],
       "type": "html"
      }
     },
     "output_type": "display_data"
    }
   ],
   "source": [
    "from pyspark.sql import functions as F\n",
    "from pyspark.sql import SparkSession\n",
    "from pyspark.sql.functions import *\n",
    "from pyspark.sql import DataFrame, Column\n",
    "import pandas as pd"
   ]
  },
  {
   "cell_type": "code",
   "execution_count": 0,
   "metadata": {
    "application/vnd.databricks.v1+cell": {
     "cellMetadata": {
      "byteLimit": 2048000,
      "rowLimit": 10000
     },
     "inputWidgets": {},
     "nuid": "f5210b65-9747-47a5-aa5e-02263b5b6f60",
     "showTitle": false,
     "tableResultSettingsMap": {},
     "title": ""
    }
   },
   "outputs": [
    {
     "output_type": "display_data",
     "data": {
      "text/html": [
       "<style scoped>\n",
       "  .ansiout {\n",
       "    display: block;\n",
       "    unicode-bidi: embed;\n",
       "    white-space: pre-wrap;\n",
       "    word-wrap: break-word;\n",
       "    word-break: break-all;\n",
       "    font-family: \"Menlo\", \"Monaco\", \"Consolas\", \"Ubuntu Mono\", \"Source Code Pro\", monospace;\n",
       "    font-size: 13px;\n",
       "    color: #555;\n",
       "    margin-left: 4px;\n",
       "    line-height: 19px;\n",
       "  }\n",
       "</style>\n",
       "<div class=\"ansiout\"></div>"
      ]
     },
     "metadata": {
      "application/vnd.databricks.v1+output": {
       "addedWidgets": {},
       "arguments": {},
       "data": "<div class=\"ansiout\"></div>",
       "datasetInfos": [],
       "metadata": {},
       "removedWidgets": [],
       "type": "html"
      }
     },
     "output_type": "display_data"
    }
   ],
   "source": [
    "spark = SparkSession.builder.appName(\"bikeshare\").getOrCreate()"
   ]
  },
  {
   "cell_type": "markdown",
   "metadata": {
    "application/vnd.databricks.v1+cell": {
     "cellMetadata": {
      "byteLimit": 2048000,
      "rowLimit": 10000
     },
     "inputWidgets": {},
     "nuid": "5c9e4652-ede6-451c-84ba-6aa1f3b2963f",
     "showTitle": false,
     "tableResultSettingsMap": {},
     "title": ""
    }
   },
   "source": [
    "### Loading and Writing Data to Delta Lake"
   ]
  },
  {
   "cell_type": "code",
   "execution_count": 0,
   "metadata": {
    "application/vnd.databricks.v1+cell": {
     "cellMetadata": {
      "byteLimit": 2048000,
      "rowLimit": 10000
     },
     "inputWidgets": {},
     "nuid": "3bb6a175-fe8d-4d78-8e3b-de3d2c45c2c1",
     "showTitle": false,
     "tableResultSettingsMap": {},
     "title": ""
    }
   },
   "outputs": [
    {
     "output_type": "display_data",
     "data": {
      "text/html": [
       "<style scoped>\n",
       "  .ansiout {\n",
       "    display: block;\n",
       "    unicode-bidi: embed;\n",
       "    white-space: pre-wrap;\n",
       "    word-wrap: break-word;\n",
       "    word-break: break-all;\n",
       "    font-family: \"Menlo\", \"Monaco\", \"Consolas\", \"Ubuntu Mono\", \"Source Code Pro\", monospace;\n",
       "    font-size: 13px;\n",
       "    color: #555;\n",
       "    margin-left: 4px;\n",
       "    line-height: 19px;\n",
       "  }\n",
       "</style>\n",
       "<div class=\"ansiout\"></div>"
      ]
     },
     "metadata": {
      "application/vnd.databricks.v1+output": {
       "addedWidgets": {},
       "arguments": {},
       "data": "<div class=\"ansiout\"></div>",
       "datasetInfos": [],
       "metadata": {},
       "removedWidgets": [],
       "type": "html"
      }
     },
     "output_type": "display_data"
    }
   ],
   "source": [
    "tables = ['payments', 'trips', 'riders', 'stations', 'trip_dates', 'payment_dates']\n",
    "\n",
    "for table in tables:\n",
    "    spark.sql(f\"DROP TABLE IF EXISTS {table}\")\n"
   ]
  },
  {
   "cell_type": "code",
   "execution_count": 0,
   "metadata": {
    "application/vnd.databricks.v1+cell": {
     "cellMetadata": {
      "byteLimit": 2048000,
      "rowLimit": 10000
     },
     "inputWidgets": {},
     "nuid": "7c5c675b-e178-4df2-9c61-45f445a86f8a",
     "showTitle": false,
     "tableResultSettingsMap": {},
     "title": ""
    }
   },
   "outputs": [
    {
     "output_type": "display_data",
     "data": {
      "text/html": [
       "<style scoped>\n",
       "  .ansiout {\n",
       "    display: block;\n",
       "    unicode-bidi: embed;\n",
       "    white-space: pre-wrap;\n",
       "    word-wrap: break-word;\n",
       "    word-break: break-all;\n",
       "    font-family: \"Menlo\", \"Monaco\", \"Consolas\", \"Ubuntu Mono\", \"Source Code Pro\", monospace;\n",
       "    font-size: 13px;\n",
       "    color: #555;\n",
       "    margin-left: 4px;\n",
       "    line-height: 19px;\n",
       "  }\n",
       "</style>\n",
       "<div class=\"ansiout\"></div>"
      ]
     },
     "metadata": {
      "application/vnd.databricks.v1+output": {
       "addedWidgets": {},
       "arguments": {},
       "data": "<div class=\"ansiout\"></div>",
       "datasetInfos": [],
       "metadata": {},
       "removedWidgets": [],
       "type": "html"
      }
     },
     "output_type": "display_data"
    }
   ],
   "source": [
    "payment_df = spark.read.format('csv').option('sep', ',').load('/FileStore/payments.csv')\n",
    "trip_df = spark.read.format('csv').option('sep', ',').load('/FileStore/trips.csv')\n",
    "rider_df = spark.read.format('csv').option('sep', ',').load('/FileStore/riders.csv')\n",
    "station_df = spark.read.format('csv').option('sep', ',').load('/FileStore/stations.csv')\n",
    "\n",
    "\n",
    "dataframes = {\n",
    "    'payments': payment_df,\n",
    "    'trips': trip_df,\n",
    "    'riders': rider_df,\n",
    "    'stations': station_df\n",
    "}\n",
    "\n",
    "for name, df in dataframes.items():\n",
    "    df.write.format('delta').mode('overwrite').saveAsTable(name)\n"
   ]
  },
  {
   "cell_type": "markdown",
   "metadata": {
    "application/vnd.databricks.v1+cell": {
     "cellMetadata": {
      "byteLimit": 2048000,
      "rowLimit": 10000
     },
     "inputWidgets": {},
     "nuid": "2870b16c-5a10-4c25-90bd-57d3ee108679",
     "showTitle": false,
     "tableResultSettingsMap": {},
     "title": ""
    }
   },
   "source": [
    "###    display raw data"
   ]
  },
  {
   "cell_type": "code",
   "execution_count": 0,
   "metadata": {
    "application/vnd.databricks.v1+cell": {
     "cellMetadata": {
      "byteLimit": 2048000,
      "rowLimit": 10000
     },
     "inputWidgets": {},
     "nuid": "61f2986b-33ac-484b-9aa8-7a60e84a1ecf",
     "showTitle": true,
     "tableResultSettingsMap": {},
     "title": "display raw datadisplay raw data"
    }
   },
   "outputs": [
    {
     "output_type": "display_data",
     "data": {
      "text/html": [
       "<h3>payments_table</h3>"
      ]
     },
     "metadata": {
      "application/vnd.databricks.v1+output": {
       "addedWidgets": {},
       "arguments": {},
       "data": "<h3>payments_table</h3>",
       "datasetInfos": [],
       "metadata": {},
       "removedWidgets": [],
       "textData": null,
       "type": "htmlSandbox"
      }
     },
     "output_type": "display_data"
    },
    {
     "output_type": "display_data",
     "data": {
      "text/html": [
       "<table border=\"1\" class=\"dataframe\">\n",
       "  <thead>\n",
       "    <tr style=\"text-align: right;\">\n",
       "      <th></th>\n",
       "      <th>_c0</th>\n",
       "      <th>_c1</th>\n",
       "      <th>_c2</th>\n",
       "      <th>_c3</th>\n",
       "    </tr>\n",
       "  </thead>\n",
       "  <tbody>\n",
       "    <tr>\n",
       "      <th>0</th>\n",
       "      <td>1</td>\n",
       "      <td>2019-05-01</td>\n",
       "      <td>9.0</td>\n",
       "      <td>1000</td>\n",
       "    </tr>\n",
       "    <tr>\n",
       "      <th>1</th>\n",
       "      <td>2</td>\n",
       "      <td>2019-06-01</td>\n",
       "      <td>9.0</td>\n",
       "      <td>1000</td>\n",
       "    </tr>\n",
       "    <tr>\n",
       "      <th>2</th>\n",
       "      <td>3</td>\n",
       "      <td>2019-07-01</td>\n",
       "      <td>9.0</td>\n",
       "      <td>1000</td>\n",
       "    </tr>\n",
       "    <tr>\n",
       "      <th>3</th>\n",
       "      <td>4</td>\n",
       "      <td>2019-08-01</td>\n",
       "      <td>9.0</td>\n",
       "      <td>1000</td>\n",
       "    </tr>\n",
       "    <tr>\n",
       "      <th>4</th>\n",
       "      <td>5</td>\n",
       "      <td>2019-09-01</td>\n",
       "      <td>9.0</td>\n",
       "      <td>1000</td>\n",
       "    </tr>\n",
       "    <tr>\n",
       "      <th>5</th>\n",
       "      <td>6</td>\n",
       "      <td>2019-10-01</td>\n",
       "      <td>9.0</td>\n",
       "      <td>1000</td>\n",
       "    </tr>\n",
       "    <tr>\n",
       "      <th>6</th>\n",
       "      <td>7</td>\n",
       "      <td>2019-11-01</td>\n",
       "      <td>9.0</td>\n",
       "      <td>1000</td>\n",
       "    </tr>\n",
       "    <tr>\n",
       "      <th>7</th>\n",
       "      <td>8</td>\n",
       "      <td>2019-12-01</td>\n",
       "      <td>9.0</td>\n",
       "      <td>1000</td>\n",
       "    </tr>\n",
       "    <tr>\n",
       "      <th>8</th>\n",
       "      <td>9</td>\n",
       "      <td>2020-01-01</td>\n",
       "      <td>9.0</td>\n",
       "      <td>1000</td>\n",
       "    </tr>\n",
       "    <tr>\n",
       "      <th>9</th>\n",
       "      <td>10</td>\n",
       "      <td>2020-02-01</td>\n",
       "      <td>9.0</td>\n",
       "      <td>1000</td>\n",
       "    </tr>\n",
       "  </tbody>\n",
       "</table>"
      ]
     },
     "metadata": {
      "application/vnd.databricks.v1+output": {
       "addedWidgets": {},
       "arguments": {},
       "data": "<table border=\"1\" class=\"dataframe\">\n  <thead>\n    <tr style=\"text-align: right;\">\n      <th></th>\n      <th>_c0</th>\n      <th>_c1</th>\n      <th>_c2</th>\n      <th>_c3</th>\n    </tr>\n  </thead>\n  <tbody>\n    <tr>\n      <th>0</th>\n      <td>1</td>\n      <td>2019-05-01</td>\n      <td>9.0</td>\n      <td>1000</td>\n    </tr>\n    <tr>\n      <th>1</th>\n      <td>2</td>\n      <td>2019-06-01</td>\n      <td>9.0</td>\n      <td>1000</td>\n    </tr>\n    <tr>\n      <th>2</th>\n      <td>3</td>\n      <td>2019-07-01</td>\n      <td>9.0</td>\n      <td>1000</td>\n    </tr>\n    <tr>\n      <th>3</th>\n      <td>4</td>\n      <td>2019-08-01</td>\n      <td>9.0</td>\n      <td>1000</td>\n    </tr>\n    <tr>\n      <th>4</th>\n      <td>5</td>\n      <td>2019-09-01</td>\n      <td>9.0</td>\n      <td>1000</td>\n    </tr>\n    <tr>\n      <th>5</th>\n      <td>6</td>\n      <td>2019-10-01</td>\n      <td>9.0</td>\n      <td>1000</td>\n    </tr>\n    <tr>\n      <th>6</th>\n      <td>7</td>\n      <td>2019-11-01</td>\n      <td>9.0</td>\n      <td>1000</td>\n    </tr>\n    <tr>\n      <th>7</th>\n      <td>8</td>\n      <td>2019-12-01</td>\n      <td>9.0</td>\n      <td>1000</td>\n    </tr>\n    <tr>\n      <th>8</th>\n      <td>9</td>\n      <td>2020-01-01</td>\n      <td>9.0</td>\n      <td>1000</td>\n    </tr>\n    <tr>\n      <th>9</th>\n      <td>10</td>\n      <td>2020-02-01</td>\n      <td>9.0</td>\n      <td>1000</td>\n    </tr>\n  </tbody>\n</table>",
       "datasetInfos": [],
       "metadata": {},
       "removedWidgets": [],
       "textData": null,
       "type": "htmlSandbox"
      }
     },
     "output_type": "display_data"
    },
    {
     "output_type": "display_data",
     "data": {
      "text/html": [
       "<h3>trips_table</h3>"
      ]
     },
     "metadata": {
      "application/vnd.databricks.v1+output": {
       "addedWidgets": {},
       "arguments": {},
       "data": "<h3>trips_table</h3>",
       "datasetInfos": [],
       "metadata": {},
       "removedWidgets": [],
       "textData": null,
       "type": "htmlSandbox"
      }
     },
     "output_type": "display_data"
    },
    {
     "output_type": "display_data",
     "data": {
      "text/html": [
       "<table border=\"1\" class=\"dataframe\">\n",
       "  <thead>\n",
       "    <tr style=\"text-align: right;\">\n",
       "      <th></th>\n",
       "      <th>_c0</th>\n",
       "      <th>_c1</th>\n",
       "      <th>_c2</th>\n",
       "      <th>_c3</th>\n",
       "      <th>_c4</th>\n",
       "      <th>_c5</th>\n",
       "      <th>_c6</th>\n",
       "    </tr>\n",
       "  </thead>\n",
       "  <tbody>\n",
       "    <tr>\n",
       "      <th>0</th>\n",
       "      <td>89E7AA6C29227EFF</td>\n",
       "      <td>classic_bike</td>\n",
       "      <td>2021-02-12 16:14:56</td>\n",
       "      <td>2021-02-12 16:21:43</td>\n",
       "      <td>525</td>\n",
       "      <td>660</td>\n",
       "      <td>71934</td>\n",
       "    </tr>\n",
       "    <tr>\n",
       "      <th>1</th>\n",
       "      <td>0FEFDE2603568365</td>\n",
       "      <td>classic_bike</td>\n",
       "      <td>2021-02-14 17:52:38</td>\n",
       "      <td>2021-02-14 18:12:09</td>\n",
       "      <td>525</td>\n",
       "      <td>16806</td>\n",
       "      <td>47854</td>\n",
       "    </tr>\n",
       "    <tr>\n",
       "      <th>2</th>\n",
       "      <td>E6159D746B2DBB91</td>\n",
       "      <td>electric_bike</td>\n",
       "      <td>2021-02-09 19:10:18</td>\n",
       "      <td>2021-02-09 19:19:10</td>\n",
       "      <td>KA1503000012</td>\n",
       "      <td>TA1305000029</td>\n",
       "      <td>70870</td>\n",
       "    </tr>\n",
       "    <tr>\n",
       "      <th>3</th>\n",
       "      <td>B32D3199F1C2E75B</td>\n",
       "      <td>classic_bike</td>\n",
       "      <td>2021-02-02 17:49:41</td>\n",
       "      <td>2021-02-02 17:54:06</td>\n",
       "      <td>637</td>\n",
       "      <td>TA1305000034</td>\n",
       "      <td>58974</td>\n",
       "    </tr>\n",
       "    <tr>\n",
       "      <th>4</th>\n",
       "      <td>83E463F23575F4BF</td>\n",
       "      <td>electric_bike</td>\n",
       "      <td>2021-02-23 15:07:23</td>\n",
       "      <td>2021-02-23 15:22:37</td>\n",
       "      <td>13216</td>\n",
       "      <td>TA1309000055</td>\n",
       "      <td>39608</td>\n",
       "    </tr>\n",
       "    <tr>\n",
       "      <th>5</th>\n",
       "      <td>BDAA7E3494E8D545</td>\n",
       "      <td>electric_bike</td>\n",
       "      <td>2021-02-24 15:43:33</td>\n",
       "      <td>2021-02-24 15:49:05</td>\n",
       "      <td>18003</td>\n",
       "      <td>KP1705001026</td>\n",
       "      <td>36267</td>\n",
       "    </tr>\n",
       "    <tr>\n",
       "      <th>6</th>\n",
       "      <td>A772742351171257</td>\n",
       "      <td>classic_bike</td>\n",
       "      <td>2021-02-01 17:47:42</td>\n",
       "      <td>2021-02-01 17:48:33</td>\n",
       "      <td>KP1705001026</td>\n",
       "      <td>KP1705001026</td>\n",
       "      <td>50104</td>\n",
       "    </tr>\n",
       "    <tr>\n",
       "      <th>7</th>\n",
       "      <td>295476889D9B79F8</td>\n",
       "      <td>classic_bike</td>\n",
       "      <td>2021-02-11 18:33:53</td>\n",
       "      <td>2021-02-11 18:35:09</td>\n",
       "      <td>18003</td>\n",
       "      <td>18003</td>\n",
       "      <td>19618</td>\n",
       "    </tr>\n",
       "    <tr>\n",
       "      <th>8</th>\n",
       "      <td>362087194BA4CC9A</td>\n",
       "      <td>classic_bike</td>\n",
       "      <td>2021-02-27 15:13:39</td>\n",
       "      <td>2021-02-27 15:36:36</td>\n",
       "      <td>KP1705001026</td>\n",
       "      <td>KP1705001026</td>\n",
       "      <td>16732</td>\n",
       "    </tr>\n",
       "    <tr>\n",
       "      <th>9</th>\n",
       "      <td>21630F715038CCB0</td>\n",
       "      <td>classic_bike</td>\n",
       "      <td>2021-02-20 08:59:42</td>\n",
       "      <td>2021-02-20 09:17:04</td>\n",
       "      <td>KP1705001026</td>\n",
       "      <td>KP1705001026</td>\n",
       "      <td>57068</td>\n",
       "    </tr>\n",
       "  </tbody>\n",
       "</table>"
      ]
     },
     "metadata": {
      "application/vnd.databricks.v1+output": {
       "addedWidgets": {},
       "arguments": {},
       "data": "<table border=\"1\" class=\"dataframe\">\n  <thead>\n    <tr style=\"text-align: right;\">\n      <th></th>\n      <th>_c0</th>\n      <th>_c1</th>\n      <th>_c2</th>\n      <th>_c3</th>\n      <th>_c4</th>\n      <th>_c5</th>\n      <th>_c6</th>\n    </tr>\n  </thead>\n  <tbody>\n    <tr>\n      <th>0</th>\n      <td>89E7AA6C29227EFF</td>\n      <td>classic_bike</td>\n      <td>2021-02-12 16:14:56</td>\n      <td>2021-02-12 16:21:43</td>\n      <td>525</td>\n      <td>660</td>\n      <td>71934</td>\n    </tr>\n    <tr>\n      <th>1</th>\n      <td>0FEFDE2603568365</td>\n      <td>classic_bike</td>\n      <td>2021-02-14 17:52:38</td>\n      <td>2021-02-14 18:12:09</td>\n      <td>525</td>\n      <td>16806</td>\n      <td>47854</td>\n    </tr>\n    <tr>\n      <th>2</th>\n      <td>E6159D746B2DBB91</td>\n      <td>electric_bike</td>\n      <td>2021-02-09 19:10:18</td>\n      <td>2021-02-09 19:19:10</td>\n      <td>KA1503000012</td>\n      <td>TA1305000029</td>\n      <td>70870</td>\n    </tr>\n    <tr>\n      <th>3</th>\n      <td>B32D3199F1C2E75B</td>\n      <td>classic_bike</td>\n      <td>2021-02-02 17:49:41</td>\n      <td>2021-02-02 17:54:06</td>\n      <td>637</td>\n      <td>TA1305000034</td>\n      <td>58974</td>\n    </tr>\n    <tr>\n      <th>4</th>\n      <td>83E463F23575F4BF</td>\n      <td>electric_bike</td>\n      <td>2021-02-23 15:07:23</td>\n      <td>2021-02-23 15:22:37</td>\n      <td>13216</td>\n      <td>TA1309000055</td>\n      <td>39608</td>\n    </tr>\n    <tr>\n      <th>5</th>\n      <td>BDAA7E3494E8D545</td>\n      <td>electric_bike</td>\n      <td>2021-02-24 15:43:33</td>\n      <td>2021-02-24 15:49:05</td>\n      <td>18003</td>\n      <td>KP1705001026</td>\n      <td>36267</td>\n    </tr>\n    <tr>\n      <th>6</th>\n      <td>A772742351171257</td>\n      <td>classic_bike</td>\n      <td>2021-02-01 17:47:42</td>\n      <td>2021-02-01 17:48:33</td>\n      <td>KP1705001026</td>\n      <td>KP1705001026</td>\n      <td>50104</td>\n    </tr>\n    <tr>\n      <th>7</th>\n      <td>295476889D9B79F8</td>\n      <td>classic_bike</td>\n      <td>2021-02-11 18:33:53</td>\n      <td>2021-02-11 18:35:09</td>\n      <td>18003</td>\n      <td>18003</td>\n      <td>19618</td>\n    </tr>\n    <tr>\n      <th>8</th>\n      <td>362087194BA4CC9A</td>\n      <td>classic_bike</td>\n      <td>2021-02-27 15:13:39</td>\n      <td>2021-02-27 15:36:36</td>\n      <td>KP1705001026</td>\n      <td>KP1705001026</td>\n      <td>16732</td>\n    </tr>\n    <tr>\n      <th>9</th>\n      <td>21630F715038CCB0</td>\n      <td>classic_bike</td>\n      <td>2021-02-20 08:59:42</td>\n      <td>2021-02-20 09:17:04</td>\n      <td>KP1705001026</td>\n      <td>KP1705001026</td>\n      <td>57068</td>\n    </tr>\n  </tbody>\n</table>",
       "datasetInfos": [],
       "metadata": {},
       "removedWidgets": [],
       "textData": null,
       "type": "htmlSandbox"
      }
     },
     "output_type": "display_data"
    },
    {
     "output_type": "display_data",
     "data": {
      "text/html": [
       "<h3>riders_table</h3>"
      ]
     },
     "metadata": {
      "application/vnd.databricks.v1+output": {
       "addedWidgets": {},
       "arguments": {},
       "data": "<h3>riders_table</h3>",
       "datasetInfos": [],
       "metadata": {},
       "removedWidgets": [],
       "textData": null,
       "type": "htmlSandbox"
      }
     },
     "output_type": "display_data"
    },
    {
     "output_type": "display_data",
     "data": {
      "text/html": [
       "<table border=\"1\" class=\"dataframe\">\n",
       "  <thead>\n",
       "    <tr style=\"text-align: right;\">\n",
       "      <th></th>\n",
       "      <th>_c0</th>\n",
       "      <th>_c1</th>\n",
       "      <th>_c2</th>\n",
       "      <th>_c3</th>\n",
       "      <th>_c4</th>\n",
       "      <th>_c5</th>\n",
       "      <th>_c6</th>\n",
       "      <th>_c7</th>\n",
       "    </tr>\n",
       "  </thead>\n",
       "  <tbody>\n",
       "    <tr>\n",
       "      <th>0</th>\n",
       "      <td>1000</td>\n",
       "      <td>Diana</td>\n",
       "      <td>Clark</td>\n",
       "      <td>1200 Alyssa Squares</td>\n",
       "      <td>1989-02-13</td>\n",
       "      <td>2019-04-23</td>\n",
       "      <td>None</td>\n",
       "      <td>True</td>\n",
       "    </tr>\n",
       "    <tr>\n",
       "      <th>1</th>\n",
       "      <td>1001</td>\n",
       "      <td>Jennifer</td>\n",
       "      <td>Smith</td>\n",
       "      <td>397 Diana Ferry</td>\n",
       "      <td>1976-08-10</td>\n",
       "      <td>2019-11-01</td>\n",
       "      <td>2020-09-01</td>\n",
       "      <td>True</td>\n",
       "    </tr>\n",
       "    <tr>\n",
       "      <th>2</th>\n",
       "      <td>1002</td>\n",
       "      <td>Karen</td>\n",
       "      <td>Smith</td>\n",
       "      <td>644 Brittany Row Apt. 097</td>\n",
       "      <td>1998-08-10</td>\n",
       "      <td>2022-02-04</td>\n",
       "      <td>None</td>\n",
       "      <td>True</td>\n",
       "    </tr>\n",
       "    <tr>\n",
       "      <th>3</th>\n",
       "      <td>1003</td>\n",
       "      <td>Bryan</td>\n",
       "      <td>Roberts</td>\n",
       "      <td>996 Dickerson Turnpike</td>\n",
       "      <td>1999-03-29</td>\n",
       "      <td>2019-08-26</td>\n",
       "      <td>None</td>\n",
       "      <td>False</td>\n",
       "    </tr>\n",
       "    <tr>\n",
       "      <th>4</th>\n",
       "      <td>1004</td>\n",
       "      <td>Jesse</td>\n",
       "      <td>Middleton</td>\n",
       "      <td>7009 Nathan Expressway</td>\n",
       "      <td>1969-04-11</td>\n",
       "      <td>2019-09-14</td>\n",
       "      <td>None</td>\n",
       "      <td>True</td>\n",
       "    </tr>\n",
       "    <tr>\n",
       "      <th>5</th>\n",
       "      <td>1005</td>\n",
       "      <td>Christine</td>\n",
       "      <td>Rodriguez</td>\n",
       "      <td>224 Washington Mills Apt. 467</td>\n",
       "      <td>1974-08-27</td>\n",
       "      <td>2020-03-24</td>\n",
       "      <td>None</td>\n",
       "      <td>False</td>\n",
       "    </tr>\n",
       "    <tr>\n",
       "      <th>6</th>\n",
       "      <td>1006</td>\n",
       "      <td>Alicia</td>\n",
       "      <td>Taylor</td>\n",
       "      <td>1137 Angela Locks</td>\n",
       "      <td>2004-01-30</td>\n",
       "      <td>2020-11-27</td>\n",
       "      <td>2021-12-01</td>\n",
       "      <td>True</td>\n",
       "    </tr>\n",
       "    <tr>\n",
       "      <th>7</th>\n",
       "      <td>1007</td>\n",
       "      <td>Benjamin</td>\n",
       "      <td>Fernandez</td>\n",
       "      <td>979 Phillips Ways</td>\n",
       "      <td>1988-01-11</td>\n",
       "      <td>2016-12-11</td>\n",
       "      <td>None</td>\n",
       "      <td>False</td>\n",
       "    </tr>\n",
       "    <tr>\n",
       "      <th>8</th>\n",
       "      <td>1008</td>\n",
       "      <td>John</td>\n",
       "      <td>Crawford</td>\n",
       "      <td>7691 Evans Court</td>\n",
       "      <td>1987-02-21</td>\n",
       "      <td>2021-03-28</td>\n",
       "      <td>2021-07-01</td>\n",
       "      <td>True</td>\n",
       "    </tr>\n",
       "    <tr>\n",
       "      <th>9</th>\n",
       "      <td>1009</td>\n",
       "      <td>Victoria</td>\n",
       "      <td>Ritter</td>\n",
       "      <td>9922 Jim Crest Apt. 319</td>\n",
       "      <td>1981-02-07</td>\n",
       "      <td>2020-06-12</td>\n",
       "      <td>2021-11-01</td>\n",
       "      <td>True</td>\n",
       "    </tr>\n",
       "  </tbody>\n",
       "</table>"
      ]
     },
     "metadata": {
      "application/vnd.databricks.v1+output": {
       "addedWidgets": {},
       "arguments": {},
       "data": "<table border=\"1\" class=\"dataframe\">\n  <thead>\n    <tr style=\"text-align: right;\">\n      <th></th>\n      <th>_c0</th>\n      <th>_c1</th>\n      <th>_c2</th>\n      <th>_c3</th>\n      <th>_c4</th>\n      <th>_c5</th>\n      <th>_c6</th>\n      <th>_c7</th>\n    </tr>\n  </thead>\n  <tbody>\n    <tr>\n      <th>0</th>\n      <td>1000</td>\n      <td>Diana</td>\n      <td>Clark</td>\n      <td>1200 Alyssa Squares</td>\n      <td>1989-02-13</td>\n      <td>2019-04-23</td>\n      <td>None</td>\n      <td>True</td>\n    </tr>\n    <tr>\n      <th>1</th>\n      <td>1001</td>\n      <td>Jennifer</td>\n      <td>Smith</td>\n      <td>397 Diana Ferry</td>\n      <td>1976-08-10</td>\n      <td>2019-11-01</td>\n      <td>2020-09-01</td>\n      <td>True</td>\n    </tr>\n    <tr>\n      <th>2</th>\n      <td>1002</td>\n      <td>Karen</td>\n      <td>Smith</td>\n      <td>644 Brittany Row Apt. 097</td>\n      <td>1998-08-10</td>\n      <td>2022-02-04</td>\n      <td>None</td>\n      <td>True</td>\n    </tr>\n    <tr>\n      <th>3</th>\n      <td>1003</td>\n      <td>Bryan</td>\n      <td>Roberts</td>\n      <td>996 Dickerson Turnpike</td>\n      <td>1999-03-29</td>\n      <td>2019-08-26</td>\n      <td>None</td>\n      <td>False</td>\n    </tr>\n    <tr>\n      <th>4</th>\n      <td>1004</td>\n      <td>Jesse</td>\n      <td>Middleton</td>\n      <td>7009 Nathan Expressway</td>\n      <td>1969-04-11</td>\n      <td>2019-09-14</td>\n      <td>None</td>\n      <td>True</td>\n    </tr>\n    <tr>\n      <th>5</th>\n      <td>1005</td>\n      <td>Christine</td>\n      <td>Rodriguez</td>\n      <td>224 Washington Mills Apt. 467</td>\n      <td>1974-08-27</td>\n      <td>2020-03-24</td>\n      <td>None</td>\n      <td>False</td>\n    </tr>\n    <tr>\n      <th>6</th>\n      <td>1006</td>\n      <td>Alicia</td>\n      <td>Taylor</td>\n      <td>1137 Angela Locks</td>\n      <td>2004-01-30</td>\n      <td>2020-11-27</td>\n      <td>2021-12-01</td>\n      <td>True</td>\n    </tr>\n    <tr>\n      <th>7</th>\n      <td>1007</td>\n      <td>Benjamin</td>\n      <td>Fernandez</td>\n      <td>979 Phillips Ways</td>\n      <td>1988-01-11</td>\n      <td>2016-12-11</td>\n      <td>None</td>\n      <td>False</td>\n    </tr>\n    <tr>\n      <th>8</th>\n      <td>1008</td>\n      <td>John</td>\n      <td>Crawford</td>\n      <td>7691 Evans Court</td>\n      <td>1987-02-21</td>\n      <td>2021-03-28</td>\n      <td>2021-07-01</td>\n      <td>True</td>\n    </tr>\n    <tr>\n      <th>9</th>\n      <td>1009</td>\n      <td>Victoria</td>\n      <td>Ritter</td>\n      <td>9922 Jim Crest Apt. 319</td>\n      <td>1981-02-07</td>\n      <td>2020-06-12</td>\n      <td>2021-11-01</td>\n      <td>True</td>\n    </tr>\n  </tbody>\n</table>",
       "datasetInfos": [],
       "metadata": {},
       "removedWidgets": [],
       "textData": null,
       "type": "htmlSandbox"
      }
     },
     "output_type": "display_data"
    },
    {
     "output_type": "display_data",
     "data": {
      "text/html": [
       "<h3>stations_table</h3>"
      ]
     },
     "metadata": {
      "application/vnd.databricks.v1+output": {
       "addedWidgets": {},
       "arguments": {},
       "data": "<h3>stations_table</h3>",
       "datasetInfos": [],
       "metadata": {},
       "removedWidgets": [],
       "textData": null,
       "type": "htmlSandbox"
      }
     },
     "output_type": "display_data"
    },
    {
     "output_type": "display_data",
     "data": {
      "text/html": [
       "<table border=\"1\" class=\"dataframe\">\n",
       "  <thead>\n",
       "    <tr style=\"text-align: right;\">\n",
       "      <th></th>\n",
       "      <th>_c0</th>\n",
       "      <th>_c1</th>\n",
       "      <th>_c2</th>\n",
       "      <th>_c3</th>\n",
       "    </tr>\n",
       "  </thead>\n",
       "  <tbody>\n",
       "    <tr>\n",
       "      <th>0</th>\n",
       "      <td>525</td>\n",
       "      <td>Glenwood Ave &amp; Touhy Ave</td>\n",
       "      <td>42.012701</td>\n",
       "      <td>-87.66605799999999</td>\n",
       "    </tr>\n",
       "    <tr>\n",
       "      <th>1</th>\n",
       "      <td>KA1503000012</td>\n",
       "      <td>Clark St &amp; Lake St</td>\n",
       "      <td>41.88579466666667</td>\n",
       "      <td>-87.63110066666668</td>\n",
       "    </tr>\n",
       "    <tr>\n",
       "      <th>2</th>\n",
       "      <td>637</td>\n",
       "      <td>Wood St &amp; Chicago Ave</td>\n",
       "      <td>41.895634</td>\n",
       "      <td>-87.672069</td>\n",
       "    </tr>\n",
       "    <tr>\n",
       "      <th>3</th>\n",
       "      <td>13216</td>\n",
       "      <td>State St &amp; 33rd St</td>\n",
       "      <td>41.8347335</td>\n",
       "      <td>-87.6258275</td>\n",
       "    </tr>\n",
       "    <tr>\n",
       "      <th>4</th>\n",
       "      <td>18003</td>\n",
       "      <td>Fairbanks St &amp; Superior St</td>\n",
       "      <td>41.89580766666667</td>\n",
       "      <td>-87.62025316666669</td>\n",
       "    </tr>\n",
       "    <tr>\n",
       "      <th>5</th>\n",
       "      <td>KP1705001026</td>\n",
       "      <td>LaSalle Dr &amp; Huron St</td>\n",
       "      <td>41.894877</td>\n",
       "      <td>-87.632326</td>\n",
       "    </tr>\n",
       "    <tr>\n",
       "      <th>6</th>\n",
       "      <td>13253</td>\n",
       "      <td>Lincoln Ave &amp; Waveland Ave</td>\n",
       "      <td>41.948797</td>\n",
       "      <td>-87.675278</td>\n",
       "    </tr>\n",
       "    <tr>\n",
       "      <th>7</th>\n",
       "      <td>KA1503000044</td>\n",
       "      <td>Rush St &amp; Hubbard St</td>\n",
       "      <td>41.890173</td>\n",
       "      <td>-87.62618499999999</td>\n",
       "    </tr>\n",
       "    <tr>\n",
       "      <th>8</th>\n",
       "      <td>KA1504000140</td>\n",
       "      <td>Winchester Ave &amp; Elston Ave</td>\n",
       "      <td>41.92403733333333</td>\n",
       "      <td>-87.67641483333334</td>\n",
       "    </tr>\n",
       "    <tr>\n",
       "      <th>9</th>\n",
       "      <td>TA1305000032</td>\n",
       "      <td>Clinton St &amp; Madison St</td>\n",
       "      <td>41.882242</td>\n",
       "      <td>-87.64106600000001</td>\n",
       "    </tr>\n",
       "  </tbody>\n",
       "</table>"
      ]
     },
     "metadata": {
      "application/vnd.databricks.v1+output": {
       "addedWidgets": {},
       "arguments": {},
       "data": "<table border=\"1\" class=\"dataframe\">\n  <thead>\n    <tr style=\"text-align: right;\">\n      <th></th>\n      <th>_c0</th>\n      <th>_c1</th>\n      <th>_c2</th>\n      <th>_c3</th>\n    </tr>\n  </thead>\n  <tbody>\n    <tr>\n      <th>0</th>\n      <td>525</td>\n      <td>Glenwood Ave &amp; Touhy Ave</td>\n      <td>42.012701</td>\n      <td>-87.66605799999999</td>\n    </tr>\n    <tr>\n      <th>1</th>\n      <td>KA1503000012</td>\n      <td>Clark St &amp; Lake St</td>\n      <td>41.88579466666667</td>\n      <td>-87.63110066666668</td>\n    </tr>\n    <tr>\n      <th>2</th>\n      <td>637</td>\n      <td>Wood St &amp; Chicago Ave</td>\n      <td>41.895634</td>\n      <td>-87.672069</td>\n    </tr>\n    <tr>\n      <th>3</th>\n      <td>13216</td>\n      <td>State St &amp; 33rd St</td>\n      <td>41.8347335</td>\n      <td>-87.6258275</td>\n    </tr>\n    <tr>\n      <th>4</th>\n      <td>18003</td>\n      <td>Fairbanks St &amp; Superior St</td>\n      <td>41.89580766666667</td>\n      <td>-87.62025316666669</td>\n    </tr>\n    <tr>\n      <th>5</th>\n      <td>KP1705001026</td>\n      <td>LaSalle Dr &amp; Huron St</td>\n      <td>41.894877</td>\n      <td>-87.632326</td>\n    </tr>\n    <tr>\n      <th>6</th>\n      <td>13253</td>\n      <td>Lincoln Ave &amp; Waveland Ave</td>\n      <td>41.948797</td>\n      <td>-87.675278</td>\n    </tr>\n    <tr>\n      <th>7</th>\n      <td>KA1503000044</td>\n      <td>Rush St &amp; Hubbard St</td>\n      <td>41.890173</td>\n      <td>-87.62618499999999</td>\n    </tr>\n    <tr>\n      <th>8</th>\n      <td>KA1504000140</td>\n      <td>Winchester Ave &amp; Elston Ave</td>\n      <td>41.92403733333333</td>\n      <td>-87.67641483333334</td>\n    </tr>\n    <tr>\n      <th>9</th>\n      <td>TA1305000032</td>\n      <td>Clinton St &amp; Madison St</td>\n      <td>41.882242</td>\n      <td>-87.64106600000001</td>\n    </tr>\n  </tbody>\n</table>",
       "datasetInfos": [],
       "metadata": {},
       "removedWidgets": [],
       "textData": null,
       "type": "htmlSandbox"
      }
     },
     "output_type": "display_data"
    }
   ],
   "source": [
    "# display only the first 10 records for each raw tables\n",
    "for table_name, table in dataframes.items():\n",
    "    displayHTML(f\"<h3>{table_name}_table</h3>\")  # Display the table name as a title\n",
    "    # Convert list to DataFrame\n",
    "    df = table.toPandas()\n",
    "    \n",
    "    # Display the first 10 rows\n",
    "    displayHTML(df.head(10).to_html())\n"
   ]
  },
  {
   "cell_type": "markdown",
   "metadata": {
    "application/vnd.databricks.v1+cell": {
     "cellMetadata": {
      "byteLimit": 2048000,
      "rowLimit": 10000
     },
     "inputWidgets": {},
     "nuid": "73f82cad-3c42-4997-8640-4b1e761e6570",
     "showTitle": false,
     "tableResultSettingsMap": {},
     "title": ""
    }
   },
   "source": [
    "### Formatting the columns to reflect the schema design"
   ]
  },
  {
   "cell_type": "code",
   "execution_count": 0,
   "metadata": {
    "application/vnd.databricks.v1+cell": {
     "cellMetadata": {
      "byteLimit": 2048000,
      "rowLimit": 10000
     },
     "inputWidgets": {},
     "nuid": "cc3891cd-47c7-4e9c-85a0-20180a8a3b51",
     "showTitle": false,
     "tableResultSettingsMap": {},
     "title": ""
    }
   },
   "outputs": [
    {
     "output_type": "display_data",
     "data": {
      "text/html": [
       "<style scoped>\n",
       "  .ansiout {\n",
       "    display: block;\n",
       "    unicode-bidi: embed;\n",
       "    white-space: pre-wrap;\n",
       "    word-wrap: break-word;\n",
       "    word-break: break-all;\n",
       "    font-family: \"Menlo\", \"Monaco\", \"Consolas\", \"Ubuntu Mono\", \"Source Code Pro\", monospace;\n",
       "    font-size: 13px;\n",
       "    color: #555;\n",
       "    margin-left: 4px;\n",
       "    line-height: 19px;\n",
       "  }\n",
       "</style>\n",
       "<div class=\"ansiout\"></div>"
      ]
     },
     "metadata": {
      "application/vnd.databricks.v1+output": {
       "addedWidgets": {},
       "arguments": {},
       "data": "<div class=\"ansiout\"></div>",
       "datasetInfos": [],
       "metadata": {},
       "removedWidgets": [],
       "type": "html"
      }
     },
     "output_type": "display_data"
    }
   ],
   "source": [
    "def format_columns(table_path: str, column_rename_dict: dict, column_type_dict: dict) -> None:\n",
    "    \"\"\"\n",
    "    Formats columns in a Spark table by renaming and casting types.\n",
    "\n",
    "    Args:\n",
    "        table_path (str): The path to the table.\n",
    "        column_rename_dict (dict): A dictionary mapping old column names to new column names.\n",
    "        column_type_dict (dict): A dictionary mapping column names to their new types.\n",
    "\n",
    "    Returns:\n",
    "        None\n",
    "    \"\"\"\n",
    "    # Read the table\n",
    "    df = spark.read.table(table_path)\n",
    "\n",
    "    # Rename columns\n",
    "    df = df.select([col(c).alias(column_rename_dict.get(c, c)) for c in df.columns])\n",
    "\n",
    "    # Cast column types\n",
    "    df = df.select([col(c).cast(column_type_dict.get(c, df.schema[c].dataType)) for c in df.columns])\n",
    "\n",
    "    # Write the transformed DataFrame back to the table\n",
    "    df.write.format(\"delta\").mode(\"overwrite\").option(\"overwriteSchema\", True).saveAsTable(table_path)\n",
    "\n",
    "\n",
    "\n",
    "# Column renaming and type definitions\n",
    "columns_types = {\n",
    "    'payments': ({'_c0': 'payment_id', '_c1': 'date_id', '_c2': 'amount', '_c3': 'rider_id'}, {'payment_id': 'int', 'amount': 'decimal', 'date_id': 'date', 'rider_id': 'int'}),\n",
    "    'trips': ({'_c0': 'trip_id', '_c1': 'rideable_type', '_c2': 'started_at', '_c3': 'ended_at', '_c4': 'start_station_id', '_c5': 'end_station_id', '_c6': 'rider_id'}, {'trip_id': 'string', 'rideable_type': 'string', 'started_at': 'timestamp', 'ended_at': 'timestamp', 'start_station_id': 'string', 'end_station_id': 'string', 'rider_id': 'int'}),\n",
    "    'riders': ({'_c0': 'rider_id', '_c1': 'first', '_c2': 'last', '_c3': 'address', '_c4': 'birthday', '_c5': 'account_start_date', '_c6': 'account_end_date', '_c7': 'is_member'}, {'rider_id': 'int', 'first': 'string', 'last': 'string', 'address': 'string', 'birthday': 'date', 'account_start_date': 'date', 'account_end_date': 'date', 'is_member': 'boolean'}),\n",
    "    'stations': ({'_c0': 'station_id', '_c1': 'name', '_c2': 'latitude', '_c3': 'longitude'}, {'station_id': 'string', 'name': 'string', 'latitude': 'float', 'longitude': 'float'})\n",
    "}\n",
    "\n",
    "# Apply transformations for each table\n",
    "for table, (columns, types) in columns_types.items():\n",
    "    format_columns(table, columns, types)\n",
    "\n"
   ]
  },
  {
   "cell_type": "markdown",
   "metadata": {
    "application/vnd.databricks.v1+cell": {
     "cellMetadata": {
      "byteLimit": 2048000,
      "rowLimit": 10000
     },
     "inputWidgets": {},
     "nuid": "a5b4a9db-e9d2-4c39-a328-d0df0ea87098",
     "showTitle": false,
     "tableResultSettingsMap": {},
     "title": ""
    }
   },
   "source": [
    "###Adding columns to address business outcomes"
   ]
  },
  {
   "cell_type": "code",
   "execution_count": 0,
   "metadata": {
    "application/vnd.databricks.v1+cell": {
     "cellMetadata": {
      "byteLimit": 2048000,
      "rowLimit": 10000
     },
     "inputWidgets": {},
     "nuid": "9a641053-ef9c-4ee0-980b-c936cbf307dc",
     "showTitle": false,
     "tableResultSettingsMap": {},
     "title": ""
    }
   },
   "outputs": [
    {
     "output_type": "display_data",
     "data": {
      "text/html": [
       "<style scoped>\n",
       "  .ansiout {\n",
       "    display: block;\n",
       "    unicode-bidi: embed;\n",
       "    white-space: pre-wrap;\n",
       "    word-wrap: break-word;\n",
       "    word-break: break-all;\n",
       "    font-family: \"Menlo\", \"Monaco\", \"Consolas\", \"Ubuntu Mono\", \"Source Code Pro\", monospace;\n",
       "    font-size: 13px;\n",
       "    color: #555;\n",
       "    margin-left: 4px;\n",
       "    line-height: 19px;\n",
       "  }\n",
       "</style>\n",
       "<div class=\"ansiout\"></div>"
      ]
     },
     "metadata": {
      "application/vnd.databricks.v1+output": {
       "addedWidgets": {},
       "arguments": {},
       "data": "<div class=\"ansiout\"></div>",
       "datasetInfos": [],
       "metadata": {},
       "removedWidgets": [],
       "type": "html"
      }
     },
     "output_type": "display_data"
    }
   ],
   "source": [
    "# Read tables\n",
    "dataframes = {\n",
    "    'trips': spark.read.table('trips'),\n",
    "    'riders': spark.read.table('riders'),\n",
    "    'payments': spark.read.table('payments')\n",
    "}\n",
    "\n",
    "# Calculate trip duration and time_id\n",
    "dataframes['trips'] = dataframes['trips'].withColumn(\"duration\", (col(\"ended_at\") - col(\"started_at\")).cast(\"long\")) \\\n",
    "                                         .withColumn(\"time_id\", date_trunc(\"hour\", col(\"started_at\")))\n",
    "\n",
    "# Calculate age at account start\n",
    "dataframes['riders'] = dataframes['riders'].withColumn(\"age_at_account_start\", (datediff(col(\"account_start_date\"), col(\"birthday\")) / 365).cast(\"int\"))\n",
    "\n",
    "# Write updated rider data\n",
    "dataframes['riders'].write.format(\"delta\").mode(\"overwrite\").option(\"overwriteSchema\", True).saveAsTable('riders')\n",
    "\n",
    "# List rider columns excluding 'rider_id'\n",
    "rider_columns = [col for col in dataframes['riders'].columns if col != 'rider_id']\n",
    "\n",
    "# Join trip and rider data, calculate age at ride time\n",
    "dataframes['trips'] = dataframes['trips'].join(dataframes['riders'].select('rider_id', 'birthday'), on='rider_id', how='inner') \\\n",
    "                                         .withColumn(\"age_at_ride_time\", (datediff(to_date(col(\"started_at\")), col(\"birthday\")) / 365).cast(\"int\")) \\\n",
    "                                         .select('trip_id', 'duration', 'rideable_type', 'age_at_ride_time', 'started_at', 'ended_at', 'start_station_id', 'end_station_id', 'time_id', 'rider_id')\n",
    "\n",
    "# Write updated trip data\n",
    "dataframes['trips'].write.format(\"delta\").mode(\"overwrite\").option(\"overwriteSchema\", True).saveAsTable('trips')\n",
    "\n",
    "# Write payment data\n",
    "dataframes['payments'].select('payment_id', 'amount', 'date_id', 'rider_id').write.format(\"delta\").mode(\"overwrite\").option(\"overwriteSchema\", True).saveAsTable('payments')\n"
   ]
  },
  {
   "cell_type": "markdown",
   "metadata": {
    "application/vnd.databricks.v1+cell": {
     "cellMetadata": {
      "byteLimit": 2048000,
      "rowLimit": 10000
     },
     "inputWidgets": {},
     "nuid": "a56943bd-0627-4dda-a953-3506e6257ef9",
     "showTitle": false,
     "tableResultSettingsMap": {},
     "title": ""
    }
   },
   "source": [
    "### Date Dimensions\n",
    "Separate date dimension tables will be created for payment and trip data due to differences in their time granularity:\n",
    "\n",
    "The trip date dimension captures time-of-day info (morning, afternoon, evening, night) at an hourly level. The payment date dimension focuses on spending trends by month, quarter, and year at a daily level."
   ]
  },
  {
   "cell_type": "code",
   "execution_count": 0,
   "metadata": {
    "application/vnd.databricks.v1+cell": {
     "cellMetadata": {
      "byteLimit": 2048000,
      "rowLimit": 10000
     },
     "inputWidgets": {},
     "nuid": "b78804d3-1284-4b6e-9049-352e14bac62c",
     "showTitle": false,
     "tableResultSettingsMap": {},
     "title": ""
    }
   },
   "outputs": [
    {
     "output_type": "display_data",
     "data": {
      "text/html": [
       "<style scoped>\n",
       "  .ansiout {\n",
       "    display: block;\n",
       "    unicode-bidi: embed;\n",
       "    white-space: pre-wrap;\n",
       "    word-wrap: break-word;\n",
       "    word-break: break-all;\n",
       "    font-family: \"Menlo\", \"Monaco\", \"Consolas\", \"Ubuntu Mono\", \"Source Code Pro\", monospace;\n",
       "    font-size: 13px;\n",
       "    color: #555;\n",
       "    margin-left: 4px;\n",
       "    line-height: 19px;\n",
       "  }\n",
       "</style>\n",
       "<div class=\"ansiout\">Trip Dates: 2021-02-01 01:00:00 to 2022-01-31 23:00:00\n",
       "Payment Dates: 2013-02-01 to 2022-02-01\n",
       "</div>"
      ]
     },
     "metadata": {
      "application/vnd.databricks.v1+output": {
       "addedWidgets": {},
       "arguments": {},
       "data": "<div class=\"ansiout\">Trip Dates: 2021-02-01 01:00:00 to 2022-01-31 23:00:00\nPayment Dates: 2013-02-01 to 2022-02-01\n</div>",
       "datasetInfos": [],
       "metadata": {},
       "removedWidgets": [],
       "type": "html"
      }
     },
     "output_type": "display_data"
    }
   ],
   "source": [
    "# Read and cache tables\n",
    "payment_df, trip_df = (spark.read.table('payments').cache(), spark.read.table('trips').cache())\n",
    "\n",
    "# Get min and max dates for payment and trip\n",
    "payment_min_date, payment_max_date = payment_df.select(min('date_id'), max('date_id')).first()\n",
    "trip_min_date, trip_max_date = trip_df.select(min('time_id'), max('time_id')).first()\n",
    "\n",
    "# Log date ranges\n",
    "print(f\"Trip Dates: {trip_min_date} to {trip_max_date}\")\n",
    "print(f\"Payment Dates: {payment_min_date} to {payment_max_date}\")\n",
    "\n",
    "# Create date and time sequences\n",
    "sequences = [\n",
    "    spark.sql(f\"SELECT explode(sequence(to_date('{payment_min_date}'), to_date('{payment_max_date}'), INTERVAL 1 DAY)) AS date\").createOrReplaceTempView('payment_dates_view'),\n",
    "    spark.sql(f\"SELECT explode(sequence(to_timestamp('{trip_min_date}'), to_timestamp('{trip_max_date}'), INTERVAL 1 HOUR)) AS time\").createOrReplaceTempView('trip_dates_view')\n",
    "]\n"
   ]
  },
  {
   "cell_type": "markdown",
   "metadata": {
    "application/vnd.databricks.v1+cell": {
     "cellMetadata": {
      "byteLimit": 2048000,
      "rowLimit": 10000
     },
     "inputWidgets": {},
     "nuid": "b65517d4-f157-4c67-9f13-fd9241647fa6",
     "showTitle": false,
     "tableResultSettingsMap": {},
     "title": ""
    }
   },
   "source": [
    "### Payment Dates View\n"
   ]
  },
  {
   "cell_type": "code",
   "execution_count": 0,
   "metadata": {
    "application/vnd.databricks.v1+cell": {
     "cellMetadata": {
      "byteLimit": 2048000,
      "implicitDf": true,
      "rowLimit": 10000
     },
     "inputWidgets": {},
     "nuid": "3b4ba282-101d-49ca-bd88-f1e7ad6acca3",
     "showTitle": false,
     "tableResultSettingsMap": {},
     "title": ""
    }
   },
   "outputs": [
    {
     "output_type": "display_data",
     "data": {
      "text/html": [
       "<style scoped>\n",
       "  .table-result-container {\n",
       "    max-height: 300px;\n",
       "    overflow: auto;\n",
       "  }\n",
       "  table, th, td {\n",
       "    border: 1px solid black;\n",
       "    border-collapse: collapse;\n",
       "  }\n",
       "  th, td {\n",
       "    padding: 5px;\n",
       "  }\n",
       "  th {\n",
       "    text-align: left;\n",
       "  }\n",
       "</style><div class='table-result-container'><table class='table-result'><thead style='background-color: white'><tr><th>date</th></tr></thead><tbody><tr><td>2013-02-01</td></tr><tr><td>2013-02-02</td></tr><tr><td>2013-02-03</td></tr><tr><td>2013-02-04</td></tr><tr><td>2013-02-05</td></tr><tr><td>2013-02-06</td></tr><tr><td>2013-02-07</td></tr><tr><td>2013-02-08</td></tr><tr><td>2013-02-09</td></tr><tr><td>2013-02-10</td></tr><tr><td>2013-02-11</td></tr><tr><td>2013-02-12</td></tr><tr><td>2013-02-13</td></tr><tr><td>2013-02-14</td></tr><tr><td>2013-02-15</td></tr><tr><td>2013-02-16</td></tr><tr><td>2013-02-17</td></tr><tr><td>2013-02-18</td></tr><tr><td>2013-02-19</td></tr><tr><td>2013-02-20</td></tr></tbody></table></div>"
      ]
     },
     "metadata": {
      "application/vnd.databricks.v1+output": {
       "addedWidgets": {},
       "aggData": [],
       "aggError": "",
       "aggOverflow": false,
       "aggSchema": [],
       "aggSeriesLimitReached": false,
       "aggType": "",
       "arguments": {},
       "columnCustomDisplayInfos": {},
       "data": [
        [
         "2013-02-01"
        ],
        [
         "2013-02-02"
        ],
        [
         "2013-02-03"
        ],
        [
         "2013-02-04"
        ],
        [
         "2013-02-05"
        ],
        [
         "2013-02-06"
        ],
        [
         "2013-02-07"
        ],
        [
         "2013-02-08"
        ],
        [
         "2013-02-09"
        ],
        [
         "2013-02-10"
        ],
        [
         "2013-02-11"
        ],
        [
         "2013-02-12"
        ],
        [
         "2013-02-13"
        ],
        [
         "2013-02-14"
        ],
        [
         "2013-02-15"
        ],
        [
         "2013-02-16"
        ],
        [
         "2013-02-17"
        ],
        [
         "2013-02-18"
        ],
        [
         "2013-02-19"
        ],
        [
         "2013-02-20"
        ]
       ],
       "datasetInfos": [],
       "dbfsResultPath": null,
       "isJsonSchema": true,
       "metadata": {},
       "overflow": false,
       "plotOptions": {
        "customPlotOptions": {},
        "displayType": "table",
        "pivotAggregation": null,
        "pivotColumns": null,
        "xColumns": null,
        "yColumns": null
       },
       "removedWidgets": [],
       "schema": [
        {
         "metadata": "{}",
         "name": "date",
         "type": "\"date\""
        }
       ],
       "type": "table"
      }
     },
     "output_type": "display_data"
    }
   ],
   "source": [
    "%sql SELECT * FROM payment_dates_view LIMIT 20"
   ]
  },
  {
   "cell_type": "markdown",
   "metadata": {
    "application/vnd.databricks.v1+cell": {
     "cellMetadata": {
      "byteLimit": 2048000,
      "rowLimit": 10000
     },
     "inputWidgets": {},
     "nuid": "513ac8ec-cbf2-4436-bf2a-9f0873b13418",
     "showTitle": false,
     "tableResultSettingsMap": {},
     "title": ""
    }
   },
   "source": [
    "### Trip Dates View\n"
   ]
  },
  {
   "cell_type": "code",
   "execution_count": 0,
   "metadata": {
    "application/vnd.databricks.v1+cell": {
     "cellMetadata": {
      "byteLimit": 2048000,
      "implicitDf": true,
      "rowLimit": 10000
     },
     "inputWidgets": {},
     "nuid": "a57cfe87-eee1-4549-92fc-decf3ea0e144",
     "showTitle": false,
     "tableResultSettingsMap": {},
     "title": ""
    }
   },
   "outputs": [
    {
     "output_type": "display_data",
     "data": {
      "text/html": [
       "<style scoped>\n",
       "  .table-result-container {\n",
       "    max-height: 300px;\n",
       "    overflow: auto;\n",
       "  }\n",
       "  table, th, td {\n",
       "    border: 1px solid black;\n",
       "    border-collapse: collapse;\n",
       "  }\n",
       "  th, td {\n",
       "    padding: 5px;\n",
       "  }\n",
       "  th {\n",
       "    text-align: left;\n",
       "  }\n",
       "</style><div class='table-result-container'><table class='table-result'><thead style='background-color: white'><tr><th>time</th></tr></thead><tbody><tr><td>2021-02-01T01:00:00.000+0000</td></tr><tr><td>2021-02-01T02:00:00.000+0000</td></tr><tr><td>2021-02-01T03:00:00.000+0000</td></tr><tr><td>2021-02-01T04:00:00.000+0000</td></tr><tr><td>2021-02-01T05:00:00.000+0000</td></tr><tr><td>2021-02-01T06:00:00.000+0000</td></tr><tr><td>2021-02-01T07:00:00.000+0000</td></tr><tr><td>2021-02-01T08:00:00.000+0000</td></tr><tr><td>2021-02-01T09:00:00.000+0000</td></tr><tr><td>2021-02-01T10:00:00.000+0000</td></tr><tr><td>2021-02-01T11:00:00.000+0000</td></tr><tr><td>2021-02-01T12:00:00.000+0000</td></tr><tr><td>2021-02-01T13:00:00.000+0000</td></tr><tr><td>2021-02-01T14:00:00.000+0000</td></tr><tr><td>2021-02-01T15:00:00.000+0000</td></tr><tr><td>2021-02-01T16:00:00.000+0000</td></tr><tr><td>2021-02-01T17:00:00.000+0000</td></tr><tr><td>2021-02-01T18:00:00.000+0000</td></tr><tr><td>2021-02-01T19:00:00.000+0000</td></tr><tr><td>2021-02-01T20:00:00.000+0000</td></tr></tbody></table></div>"
      ]
     },
     "metadata": {
      "application/vnd.databricks.v1+output": {
       "addedWidgets": {},
       "aggData": [],
       "aggError": "",
       "aggOverflow": false,
       "aggSchema": [],
       "aggSeriesLimitReached": false,
       "aggType": "",
       "arguments": {},
       "columnCustomDisplayInfos": {},
       "data": [
        [
         "2021-02-01T01:00:00.000+0000"
        ],
        [
         "2021-02-01T02:00:00.000+0000"
        ],
        [
         "2021-02-01T03:00:00.000+0000"
        ],
        [
         "2021-02-01T04:00:00.000+0000"
        ],
        [
         "2021-02-01T05:00:00.000+0000"
        ],
        [
         "2021-02-01T06:00:00.000+0000"
        ],
        [
         "2021-02-01T07:00:00.000+0000"
        ],
        [
         "2021-02-01T08:00:00.000+0000"
        ],
        [
         "2021-02-01T09:00:00.000+0000"
        ],
        [
         "2021-02-01T10:00:00.000+0000"
        ],
        [
         "2021-02-01T11:00:00.000+0000"
        ],
        [
         "2021-02-01T12:00:00.000+0000"
        ],
        [
         "2021-02-01T13:00:00.000+0000"
        ],
        [
         "2021-02-01T14:00:00.000+0000"
        ],
        [
         "2021-02-01T15:00:00.000+0000"
        ],
        [
         "2021-02-01T16:00:00.000+0000"
        ],
        [
         "2021-02-01T17:00:00.000+0000"
        ],
        [
         "2021-02-01T18:00:00.000+0000"
        ],
        [
         "2021-02-01T19:00:00.000+0000"
        ],
        [
         "2021-02-01T20:00:00.000+0000"
        ]
       ],
       "datasetInfos": [],
       "dbfsResultPath": null,
       "isJsonSchema": true,
       "metadata": {},
       "overflow": false,
       "plotOptions": {
        "customPlotOptions": {},
        "displayType": "table",
        "pivotAggregation": null,
        "pivotColumns": null,
        "xColumns": null,
        "yColumns": null
       },
       "removedWidgets": [],
       "schema": [
        {
         "metadata": "{}",
         "name": "time",
         "type": "\"timestamp\""
        }
       ],
       "type": "table"
      }
     },
     "output_type": "display_data"
    }
   ],
   "source": [
    "%sql SELECT * FROM trip_dates_view LIMIT 20"
   ]
  },
  {
   "cell_type": "code",
   "execution_count": 0,
   "metadata": {
    "application/vnd.databricks.v1+cell": {
     "cellMetadata": {
      "byteLimit": 2048000,
      "rowLimit": 10000
     },
     "inputWidgets": {},
     "nuid": "2ca6bb6c-1d78-4a05-a896-a3ea617bf2e3",
     "showTitle": false,
     "tableResultSettingsMap": {},
     "title": ""
    }
   },
   "outputs": [
    {
     "output_type": "display_data",
     "data": {
      "text/html": [
       "<style scoped>\n",
       "  .ansiout {\n",
       "    display: block;\n",
       "    unicode-bidi: embed;\n",
       "    white-space: pre-wrap;\n",
       "    word-wrap: break-word;\n",
       "    word-break: break-all;\n",
       "    font-family: \"Menlo\", \"Monaco\", \"Consolas\", \"Ubuntu Mono\", \"Source Code Pro\", monospace;\n",
       "    font-size: 13px;\n",
       "    color: #555;\n",
       "    margin-left: 4px;\n",
       "    line-height: 19px;\n",
       "  }\n",
       "</style>\n",
       "<div class=\"ansiout\"></div>"
      ]
     },
     "metadata": {
      "application/vnd.databricks.v1+output": {
       "addedWidgets": {},
       "arguments": {},
       "data": "<div class=\"ansiout\"></div>",
       "datasetInfos": [],
       "metadata": {},
       "removedWidgets": [],
       "type": "html"
      }
     },
     "output_type": "display_data"
    }
   ],
   "source": [
    "trip_dates_query = f\"\"\"\n",
    "SELECT\n",
    "    time AS time_id,\n",
    "    dayofweek(time) AS day_of_week,\n",
    "    CASE \n",
    "        WHEN hour(time) BETWEEN 5 AND 11 THEN 'morning'\n",
    "        WHEN hour(time) BETWEEN 12 AND 16 THEN 'afternoon'\n",
    "        WHEN hour(time) BETWEEN 17 AND 21 THEN 'evening'\n",
    "        ELSE 'night'\n",
    "    END AS time_of_day\n",
    "FROM trip_dates_view\n",
    "ORDER BY time\n",
    "\"\"\"\n",
    "\n",
    "trip_dates = spark.sql(trip_dates_query)\n",
    "trip_dates.write.format('delta').mode('overwrite').saveAsTable('trip_dates')\n"
   ]
  },
  {
   "cell_type": "code",
   "execution_count": 0,
   "metadata": {
    "application/vnd.databricks.v1+cell": {
     "cellMetadata": {
      "byteLimit": 2048000,
      "rowLimit": 10000
     },
     "inputWidgets": {},
     "nuid": "41d4f3a2-d4a1-40a0-a9b6-3e44a4490957",
     "showTitle": false,
     "tableResultSettingsMap": {},
     "title": ""
    }
   },
   "outputs": [
    {
     "output_type": "display_data",
     "data": {
      "text/html": [
       "<style scoped>\n",
       "  .ansiout {\n",
       "    display: block;\n",
       "    unicode-bidi: embed;\n",
       "    white-space: pre-wrap;\n",
       "    word-wrap: break-word;\n",
       "    word-break: break-all;\n",
       "    font-family: \"Menlo\", \"Monaco\", \"Consolas\", \"Ubuntu Mono\", \"Source Code Pro\", monospace;\n",
       "    font-size: 13px;\n",
       "    color: #555;\n",
       "    margin-left: 4px;\n",
       "    line-height: 19px;\n",
       "  }\n",
       "</style>\n",
       "<div class=\"ansiout\"></div>"
      ]
     },
     "metadata": {
      "application/vnd.databricks.v1+output": {
       "addedWidgets": {},
       "arguments": {},
       "data": "<div class=\"ansiout\"></div>",
       "datasetInfos": [],
       "metadata": {},
       "removedWidgets": [],
       "type": "html"
      }
     },
     "output_type": "display_data"
    }
   ],
   "source": [
    "# Define the SQL query  for payment dates\n",
    "payment_dates_query = f\"\"\"\n",
    "SELECT\n",
    "    date AS date_id,\n",
    "    month(date) AS month,\n",
    "    quarter(date) AS quarter,\n",
    "    year(date) AS year\n",
    "FROM payment_dates_view\n",
    "ORDER BY date\n",
    "\"\"\"\n",
    "\n",
    "payment_dates = spark.sql(payment_dates_query)\n",
    "payment_dates.write.format('delta').mode('overwrite').saveAsTable('payment_dates')\n"
   ]
  },
  {
   "cell_type": "markdown",
   "metadata": {
    "application/vnd.databricks.v1+cell": {
     "cellMetadata": {
      "byteLimit": 2048000,
      "rowLimit": 10000
     },
     "inputWidgets": {},
     "nuid": "1492c8ae-d8dc-41e7-b185-c6a9bbbd573f",
     "showTitle": false,
     "tableResultSettingsMap": {},
     "title": ""
    }
   },
   "source": [
    "## Business Questions to Address\n",
    "\n",
    "- Analyze how much time is spent per ride\n",
    "  * Based on date and time factors such as day of week and time of day\n",
    "  * Based on which station is the starting and / or ending station\n",
    "  * Based on age of the rider at time of the ride\n",
    "  * Based on whether the rider is a member or a casual rider\n",
    "- Analyze how much money is spent\n",
    "  * Per month, quarter, year\n",
    "  * Per member, based on the age of the rider at account start\n",
    "- EXTRA CREDIT - Analyze how much money is spent per member\n",
    "  * Based on how many rides the rider averages per month\n",
    "  * Based on how many minutes the rider spends on a bike per month"
   ]
  },
  {
   "cell_type": "code",
   "execution_count": 0,
   "metadata": {
    "application/vnd.databricks.v1+cell": {
     "cellMetadata": {
      "byteLimit": 2048000,
      "rowLimit": 10000
     },
     "inputWidgets": {},
     "nuid": "ce04ed99-88e8-4284-a07b-c179492b4612",
     "showTitle": false,
     "tableResultSettingsMap": {},
     "title": ""
    }
   },
   "outputs": [
    {
     "output_type": "display_data",
     "data": {
      "text/html": [
       "<style scoped>\n",
       "  .ansiout {\n",
       "    display: block;\n",
       "    unicode-bidi: embed;\n",
       "    white-space: pre-wrap;\n",
       "    word-wrap: break-word;\n",
       "    word-break: break-all;\n",
       "    font-family: \"Menlo\", \"Monaco\", \"Consolas\", \"Ubuntu Mono\", \"Source Code Pro\", monospace;\n",
       "    font-size: 13px;\n",
       "    color: #555;\n",
       "    margin-left: 4px;\n",
       "    line-height: 19px;\n",
       "  }\n",
       "</style>\n",
       "<div class=\"ansiout\"></div>"
      ]
     },
     "metadata": {
      "application/vnd.databricks.v1+output": {
       "addedWidgets": {},
       "arguments": {},
       "data": "<div class=\"ansiout\"></div>",
       "datasetInfos": [],
       "metadata": {},
       "removedWidgets": [],
       "type": "html"
      }
     },
     "output_type": "display_data"
    }
   ],
   "source": [
    "# Load the fact and dimension tables\n",
    "tables = ['payments', 'trips', 'riders', 'stations', 'trip_dates', 'payment_dates']\n",
    "payment_df, trip_df, rider_df, station_df, trip_date_df, payment_date_df = [spark.read.table(table) for table in tables]\n"
   ]
  },
  {
   "cell_type": "markdown",
   "metadata": {
    "application/vnd.databricks.v1+cell": {
     "cellMetadata": {
      "byteLimit": 2048000,
      "rowLimit": 10000
     },
     "inputWidgets": {},
     "nuid": "30fdfaa9-4829-409d-b1a9-e60f5ce3f9cf",
     "showTitle": false,
     "tableResultSettingsMap": {},
     "title": ""
    }
   },
   "source": [
    "## Trip Table"
   ]
  },
  {
   "cell_type": "code",
   "execution_count": 0,
   "metadata": {
    "application/vnd.databricks.v1+cell": {
     "cellMetadata": {
      "byteLimit": 2048000,
      "rowLimit": 10000
     },
     "inputWidgets": {},
     "nuid": "111ba6e9-1cd9-4e74-a866-d0eb21d7604d",
     "showTitle": false,
     "tableResultSettingsMap": {},
     "title": ""
    }
   },
   "outputs": [
    {
     "output_type": "display_data",
     "data": {
      "text/html": [
       "<style scoped>\n",
       "  .ansiout {\n",
       "    display: block;\n",
       "    unicode-bidi: embed;\n",
       "    white-space: pre-wrap;\n",
       "    word-wrap: break-word;\n",
       "    word-break: break-all;\n",
       "    font-family: \"Menlo\", \"Monaco\", \"Consolas\", \"Ubuntu Mono\", \"Source Code Pro\", monospace;\n",
       "    font-size: 13px;\n",
       "    color: #555;\n",
       "    margin-left: 4px;\n",
       "    line-height: 19px;\n",
       "  }\n",
       "</style>\n",
       "<div class=\"ansiout\"></div>"
      ]
     },
     "metadata": {
      "application/vnd.databricks.v1+output": {
       "addedWidgets": {},
       "arguments": {},
       "data": "<div class=\"ansiout\"></div>",
       "datasetInfos": [],
       "metadata": {},
       "removedWidgets": [],
       "type": "html"
      }
     },
     "output_type": "display_data"
    }
   ],
   "source": [
    "from pyspark.sql import DataFrame, Column\n",
    "from pyspark.sql.functions import avg, sum, dayofweek, col\n",
    "\n",
    "def analyze_trip_data(df: DataFrame, group_col: str, agg_func: Column, alias: str, title: str) -> None:\n",
    "    \"\"\"\n",
    "    Analyze trip data with aggregation and display results with a title.\n",
    "    \n",
    "    Args:\n",
    "        df (DataFrame): Trip data.\n",
    "        group_col (str): Column to group by.\n",
    "        agg_func (Column): Aggregation function (avg, sum).\n",
    "        alias (str): Alias for the aggregated column.\n",
    "        title (str): Title for the results.\n",
    "\n",
    "    Returns:\n",
    "        None\n",
    "    \"\"\"\n",
    "    result_df = df.groupBy(group_col)\\\n",
    "                  .agg(agg_func('duration').alias(alias))\\\n",
    "                  .orderBy(alias, ascending=False)\n",
    "    \n",
    "    # Display the title and results\n",
    "    displayHTML(f\"<h3>{title}</h3>\")\n",
    "    display(result_df.limit(10))\n",
    "\n",
    "# Add 'day_of_week' column to 'trip_df'\n",
    "trip_df = trip_df.withColumn(\"day_of_week\", dayofweek(col(\"started_at\")))\n",
    "\n"
   ]
  },
  {
   "cell_type": "code",
   "execution_count": 0,
   "metadata": {
    "application/vnd.databricks.v1+cell": {
     "cellMetadata": {
      "byteLimit": 2048000,
      "rowLimit": 10000
     },
     "inputWidgets": {},
     "nuid": "3523973c-2bd1-4020-a601-845948bc03fb",
     "showTitle": false,
     "tableResultSettingsMap": {},
     "title": ""
    }
   },
   "outputs": [
    {
     "output_type": "display_data",
     "data": {
      "text/html": [
       "<h3>Avg Duration per Ride by Day of Week</h3>"
      ]
     },
     "metadata": {
      "application/vnd.databricks.v1+output": {
       "addedWidgets": {},
       "arguments": {},
       "data": "<h3>Avg Duration per Ride by Day of Week</h3>",
       "datasetInfos": [],
       "metadata": {},
       "removedWidgets": [],
       "textData": null,
       "type": "htmlSandbox"
      }
     },
     "output_type": "display_data"
    },
    {
     "output_type": "display_data",
     "data": {
      "text/html": [
       "<style scoped>\n",
       "  .table-result-container {\n",
       "    max-height: 300px;\n",
       "    overflow: auto;\n",
       "  }\n",
       "  table, th, td {\n",
       "    border: 1px solid black;\n",
       "    border-collapse: collapse;\n",
       "  }\n",
       "  th, td {\n",
       "    padding: 5px;\n",
       "  }\n",
       "  th {\n",
       "    text-align: left;\n",
       "  }\n",
       "</style><div class='table-result-container'><table class='table-result'><thead style='background-color: white'><tr><th>day_of_week</th><th>duration_in_seconds_avg</th></tr></thead><tbody><tr><td>1</td><td>1669.501400089135</td></tr><tr><td>7</td><td>1571.6539107809404</td></tr><tr><td>6</td><td>1248.3461199415995</td></tr><tr><td>2</td><td>1237.3757179680788</td></tr><tr><td>5</td><td>1094.5453685426273</td></tr><tr><td>3</td><td>1090.6051999331985</td></tr><tr><td>4</td><td>1082.1249497027595</td></tr></tbody></table></div>"
      ]
     },
     "metadata": {
      "application/vnd.databricks.v1+output": {
       "addedWidgets": {},
       "aggData": [],
       "aggError": "",
       "aggOverflow": false,
       "aggSchema": [],
       "aggSeriesLimitReached": false,
       "aggType": "",
       "arguments": {},
       "columnCustomDisplayInfos": {},
       "data": [
        [
         1,
         1669.501400089135
        ],
        [
         7,
         1571.6539107809404
        ],
        [
         6,
         1248.3461199415995
        ],
        [
         2,
         1237.3757179680788
        ],
        [
         5,
         1094.5453685426273
        ],
        [
         3,
         1090.6051999331985
        ],
        [
         4,
         1082.1249497027595
        ]
       ],
       "datasetInfos": [],
       "dbfsResultPath": null,
       "isJsonSchema": true,
       "metadata": {},
       "overflow": false,
       "plotOptions": {
        "customPlotOptions": {},
        "displayType": "table",
        "pivotAggregation": null,
        "pivotColumns": null,
        "xColumns": null,
        "yColumns": null
       },
       "removedWidgets": [],
       "schema": [
        {
         "metadata": "{}",
         "name": "day_of_week",
         "type": "\"integer\""
        },
        {
         "metadata": "{}",
         "name": "duration_in_seconds_avg",
         "type": "\"double\""
        }
       ],
       "type": "table"
      }
     },
     "output_type": "display_data"
    }
   ],
   "source": [
    "\n",
    "analyze_trip_data(trip_df, 'day_of_week', avg, 'duration_in_seconds_avg', 'Avg Duration per Ride by Day of Week')\n"
   ]
  },
  {
   "cell_type": "code",
   "execution_count": 0,
   "metadata": {
    "application/vnd.databricks.v1+cell": {
     "cellMetadata": {
      "byteLimit": 2048000,
      "rowLimit": 10000
     },
     "inputWidgets": {},
     "nuid": "b2eef50e-9e11-4626-97ed-b9c3ed526e0f",
     "showTitle": false,
     "tableResultSettingsMap": {},
     "title": ""
    }
   },
   "outputs": [
    {
     "output_type": "display_data",
     "data": {
      "text/html": [
       "<h3>Total Duration per Ride by Day of Week</h3>"
      ]
     },
     "metadata": {
      "application/vnd.databricks.v1+output": {
       "addedWidgets": {},
       "arguments": {},
       "data": "<h3>Total Duration per Ride by Day of Week</h3>",
       "datasetInfos": [],
       "metadata": {},
       "removedWidgets": [],
       "textData": null,
       "type": "htmlSandbox"
      }
     },
     "output_type": "display_data"
    },
    {
     "output_type": "display_data",
     "data": {
      "text/html": [
       "<style scoped>\n",
       "  .table-result-container {\n",
       "    max-height: 300px;\n",
       "    overflow: auto;\n",
       "  }\n",
       "  table, th, td {\n",
       "    border: 1px solid black;\n",
       "    border-collapse: collapse;\n",
       "  }\n",
       "  th, td {\n",
       "    padding: 5px;\n",
       "  }\n",
       "  th {\n",
       "    text-align: left;\n",
       "  }\n",
       "</style><div class='table-result-container'><table class='table-result'><thead style='background-color: white'><tr><th>day_of_week</th><th>duration_in_seconds_sum</th></tr></thead><tbody><tr><td>7</td><td>1292638192</td></tr><tr><td>1</td><td>1191232656</td></tr><tr><td>6</td><td>815691825</td></tr><tr><td>2</td><td>712858338</td></tr><tr><td>4</td><td>666952563</td></tr><tr><td>3</td><td>659572941</td></tr><tr><td>5</td><td>654854454</td></tr></tbody></table></div>"
      ]
     },
     "metadata": {
      "application/vnd.databricks.v1+output": {
       "addedWidgets": {},
       "aggData": [],
       "aggError": "",
       "aggOverflow": false,
       "aggSchema": [],
       "aggSeriesLimitReached": false,
       "aggType": "",
       "arguments": {},
       "columnCustomDisplayInfos": {},
       "data": [
        [
         7,
         1292638192
        ],
        [
         1,
         1191232656
        ],
        [
         6,
         815691825
        ],
        [
         2,
         712858338
        ],
        [
         4,
         666952563
        ],
        [
         3,
         659572941
        ],
        [
         5,
         654854454
        ]
       ],
       "datasetInfos": [],
       "dbfsResultPath": null,
       "isJsonSchema": true,
       "metadata": {},
       "overflow": false,
       "plotOptions": {
        "customPlotOptions": {},
        "displayType": "table",
        "pivotAggregation": null,
        "pivotColumns": null,
        "xColumns": null,
        "yColumns": null
       },
       "removedWidgets": [],
       "schema": [
        {
         "metadata": "{}",
         "name": "day_of_week",
         "type": "\"integer\""
        },
        {
         "metadata": "{}",
         "name": "duration_in_seconds_sum",
         "type": "\"long\""
        }
       ],
       "type": "table"
      }
     },
     "output_type": "display_data"
    }
   ],
   "source": [
    "analyze_trip_data(trip_df, 'day_of_week', sum, 'duration_in_seconds_sum', 'Total Duration per Ride by Day of Week')\n"
   ]
  },
  {
   "cell_type": "code",
   "execution_count": 0,
   "metadata": {
    "application/vnd.databricks.v1+cell": {
     "cellMetadata": {
      "byteLimit": 2048000,
      "rowLimit": 10000
     },
     "inputWidgets": {},
     "nuid": "f5cf7ff2-7c89-4229-a6d7-6d3b552ed824",
     "showTitle": false,
     "tableResultSettingsMap": {},
     "title": ""
    }
   },
   "outputs": [
    {
     "output_type": "display_data",
     "data": {
      "text/html": [
       "<h3>Avg Duration per Ride by Start Time</h3>"
      ]
     },
     "metadata": {
      "application/vnd.databricks.v1+output": {
       "addedWidgets": {},
       "arguments": {},
       "data": "<h3>Avg Duration per Ride by Start Time</h3>",
       "datasetInfos": [],
       "metadata": {},
       "removedWidgets": [],
       "textData": null,
       "type": "htmlSandbox"
      }
     },
     "output_type": "display_data"
    },
    {
     "output_type": "display_data",
     "data": {
      "text/html": [
       "<style scoped>\n",
       "  .table-result-container {\n",
       "    max-height: 300px;\n",
       "    overflow: auto;\n",
       "  }\n",
       "  table, th, td {\n",
       "    border: 1px solid black;\n",
       "    border-collapse: collapse;\n",
       "  }\n",
       "  th, td {\n",
       "    padding: 5px;\n",
       "  }\n",
       "  th {\n",
       "    text-align: left;\n",
       "  }\n",
       "</style><div class='table-result-container'><table class='table-result'><thead style='background-color: white'><tr><th>started_at</th><th>duration_in_seconds_avg</th></tr></thead><tbody><tr><td>2021-06-05T02:27:26.000+0000</td><td>3356649.0</td></tr><tr><td>2021-05-02T02:56:07.000+0000</td><td>3235296.0</td></tr><tr><td>2021-06-05T23:33:51.000+0000</td><td>3162083.0</td></tr><tr><td>2021-04-02T17:50:00.000+0000</td><td>2866602.0</td></tr><tr><td>2021-06-05T21:47:40.000+0000</td><td>2820651.0</td></tr><tr><td>2021-07-08T15:13:08.000+0000</td><td>2498731.0</td></tr><tr><td>2021-10-02T18:35:36.000+0000</td><td>2442301.0</td></tr><tr><td>2021-06-11T13:35:42.000+0000</td><td>2419234.0</td></tr><tr><td>2021-07-08T19:26:21.000+0000</td><td>2375231.0</td></tr><tr><td>2021-06-01T13:17:23.000+0000</td><td>2335375.0</td></tr></tbody></table></div>"
      ]
     },
     "metadata": {
      "application/vnd.databricks.v1+output": {
       "addedWidgets": {},
       "aggData": [],
       "aggError": "",
       "aggOverflow": false,
       "aggSchema": [],
       "aggSeriesLimitReached": false,
       "aggType": "",
       "arguments": {},
       "columnCustomDisplayInfos": {},
       "data": [
        [
         "2021-06-05T02:27:26.000+0000",
         3356649.0
        ],
        [
         "2021-05-02T02:56:07.000+0000",
         3235296.0
        ],
        [
         "2021-06-05T23:33:51.000+0000",
         3162083.0
        ],
        [
         "2021-04-02T17:50:00.000+0000",
         2866602.0
        ],
        [
         "2021-06-05T21:47:40.000+0000",
         2820651.0
        ],
        [
         "2021-07-08T15:13:08.000+0000",
         2498731.0
        ],
        [
         "2021-10-02T18:35:36.000+0000",
         2442301.0
        ],
        [
         "2021-06-11T13:35:42.000+0000",
         2419234.0
        ],
        [
         "2021-07-08T19:26:21.000+0000",
         2375231.0
        ],
        [
         "2021-06-01T13:17:23.000+0000",
         2335375.0
        ]
       ],
       "datasetInfos": [],
       "dbfsResultPath": null,
       "isJsonSchema": true,
       "metadata": {},
       "overflow": false,
       "plotOptions": {
        "customPlotOptions": {},
        "displayType": "table",
        "pivotAggregation": null,
        "pivotColumns": null,
        "xColumns": null,
        "yColumns": null
       },
       "removedWidgets": [],
       "schema": [
        {
         "metadata": "{}",
         "name": "started_at",
         "type": "\"timestamp\""
        },
        {
         "metadata": "{}",
         "name": "duration_in_seconds_avg",
         "type": "\"double\""
        }
       ],
       "type": "table"
      }
     },
     "output_type": "display_data"
    }
   ],
   "source": [
    "analyze_trip_data(trip_df, 'started_at', avg, 'duration_in_seconds_avg', 'Avg Duration per Ride by Start Time')\n"
   ]
  },
  {
   "cell_type": "code",
   "execution_count": 0,
   "metadata": {
    "application/vnd.databricks.v1+cell": {
     "cellMetadata": {
      "byteLimit": 2048000,
      "rowLimit": 10000
     },
     "inputWidgets": {},
     "nuid": "aa6e2b88-648c-434f-b5b6-c134bc18a50d",
     "showTitle": false,
     "tableResultSettingsMap": {},
     "title": ""
    }
   },
   "outputs": [
    {
     "output_type": "display_data",
     "data": {
      "text/html": [
       "<h3>Total Duration per Ride by Start Time</h3>"
      ]
     },
     "metadata": {
      "application/vnd.databricks.v1+output": {
       "addedWidgets": {},
       "arguments": {},
       "data": "<h3>Total Duration per Ride by Start Time</h3>",
       "datasetInfos": [],
       "metadata": {},
       "removedWidgets": [],
       "textData": null,
       "type": "htmlSandbox"
      }
     },
     "output_type": "display_data"
    },
    {
     "output_type": "display_data",
     "data": {
      "text/html": [
       "<style scoped>\n",
       "  .table-result-container {\n",
       "    max-height: 300px;\n",
       "    overflow: auto;\n",
       "  }\n",
       "  table, th, td {\n",
       "    border: 1px solid black;\n",
       "    border-collapse: collapse;\n",
       "  }\n",
       "  th, td {\n",
       "    padding: 5px;\n",
       "  }\n",
       "  th {\n",
       "    text-align: left;\n",
       "  }\n",
       "</style><div class='table-result-container'><table class='table-result'><thead style='background-color: white'><tr><th>started_at</th><th>duration_in_seconds_sum</th></tr></thead><tbody><tr><td>2021-06-04T22:03:33.000+0000</td><td>3404889</td></tr><tr><td>2021-06-05T02:27:26.000+0000</td><td>3356649</td></tr><tr><td>2021-05-02T02:56:07.000+0000</td><td>3235296</td></tr><tr><td>2021-06-05T23:33:51.000+0000</td><td>3162083</td></tr><tr><td>2021-07-08T19:29:49.000+0000</td><td>2947024</td></tr><tr><td>2021-04-02T17:50:00.000+0000</td><td>2866602</td></tr><tr><td>2021-06-05T21:47:40.000+0000</td><td>2820651</td></tr><tr><td>2021-08-01T18:53:10.000+0000</td><td>2499504</td></tr><tr><td>2021-07-08T15:13:08.000+0000</td><td>2498731</td></tr><tr><td>2021-07-10T15:59:21.000+0000</td><td>2446441</td></tr></tbody></table></div>"
      ]
     },
     "metadata": {
      "application/vnd.databricks.v1+output": {
       "addedWidgets": {},
       "aggData": [],
       "aggError": "",
       "aggOverflow": false,
       "aggSchema": [],
       "aggSeriesLimitReached": false,
       "aggType": "",
       "arguments": {},
       "columnCustomDisplayInfos": {},
       "data": [
        [
         "2021-06-04T22:03:33.000+0000",
         3404889
        ],
        [
         "2021-06-05T02:27:26.000+0000",
         3356649
        ],
        [
         "2021-05-02T02:56:07.000+0000",
         3235296
        ],
        [
         "2021-06-05T23:33:51.000+0000",
         3162083
        ],
        [
         "2021-07-08T19:29:49.000+0000",
         2947024
        ],
        [
         "2021-04-02T17:50:00.000+0000",
         2866602
        ],
        [
         "2021-06-05T21:47:40.000+0000",
         2820651
        ],
        [
         "2021-08-01T18:53:10.000+0000",
         2499504
        ],
        [
         "2021-07-08T15:13:08.000+0000",
         2498731
        ],
        [
         "2021-07-10T15:59:21.000+0000",
         2446441
        ]
       ],
       "datasetInfos": [],
       "dbfsResultPath": null,
       "isJsonSchema": true,
       "metadata": {},
       "overflow": false,
       "plotOptions": {
        "customPlotOptions": {},
        "displayType": "table",
        "pivotAggregation": null,
        "pivotColumns": null,
        "xColumns": null,
        "yColumns": null
       },
       "removedWidgets": [],
       "schema": [
        {
         "metadata": "{}",
         "name": "started_at",
         "type": "\"timestamp\""
        },
        {
         "metadata": "{}",
         "name": "duration_in_seconds_sum",
         "type": "\"long\""
        }
       ],
       "type": "table"
      }
     },
     "output_type": "display_data"
    }
   ],
   "source": [
    "analyze_trip_data(trip_df, 'started_at', sum, 'duration_in_seconds_sum', 'Total Duration per Ride by Start Time')\n"
   ]
  },
  {
   "cell_type": "code",
   "execution_count": 0,
   "metadata": {
    "application/vnd.databricks.v1+cell": {
     "cellMetadata": {
      "byteLimit": 2048000,
      "rowLimit": 10000
     },
     "inputWidgets": {},
     "nuid": "0134da3a-dbd9-42c6-a4dd-404931621940",
     "showTitle": false,
     "tableResultSettingsMap": {},
     "title": ""
    }
   },
   "outputs": [
    {
     "output_type": "display_data",
     "data": {
      "text/html": [
       "<style scoped>\n",
       "  .ansiout {\n",
       "    display: block;\n",
       "    unicode-bidi: embed;\n",
       "    white-space: pre-wrap;\n",
       "    word-wrap: break-word;\n",
       "    word-break: break-all;\n",
       "    font-family: \"Menlo\", \"Monaco\", \"Consolas\", \"Ubuntu Mono\", \"Source Code Pro\", monospace;\n",
       "    font-size: 13px;\n",
       "    color: #555;\n",
       "    margin-left: 4px;\n",
       "    line-height: 19px;\n",
       "  }\n",
       "</style>\n",
       "<div class=\"ansiout\"></div>"
      ]
     },
     "metadata": {
      "application/vnd.databricks.v1+output": {
       "addedWidgets": {},
       "arguments": {},
       "data": "<div class=\"ansiout\"></div>",
       "datasetInfos": [],
       "metadata": {},
       "removedWidgets": [],
       "type": "html"
      }
     },
     "output_type": "display_data"
    }
   ],
   "source": [
    "def analyze_duration(df: DataFrame, group_col: str, agg_func: Column, alias: str, title: str) -> None:\n",
    "    \"\"\"\n",
    "    Analyze duration data by grouping and applying an aggregation function.\n",
    "\n",
    "    Args:\n",
    "        df (DataFrame): DataFrame containing duration data.\n",
    "        group_col (str): Column to group by.\n",
    "        agg_func (Column): Aggregation function (avg, sum).\n",
    "        alias (str): Alias for the aggregated column.\n",
    "        title (str): Title for the results\n",
    "\n",
    "    Returns:\n",
    "        None\n",
    "    \"\"\"\n",
    "    result_df = df.groupBy(group_col)\\\n",
    "                  .agg(agg_func('duration').alias(alias))\\\n",
    "                  .orderBy(alias, ascending=False)\n",
    "    \n",
    "    # Display title and results\n",
    "    displayHTML(f\"<h3>{title}</h3>\")\n",
    "    display(result_df.limit(20))\n"
   ]
  },
  {
   "cell_type": "code",
   "execution_count": 0,
   "metadata": {
    "application/vnd.databricks.v1+cell": {
     "cellMetadata": {
      "byteLimit": 2048000,
      "rowLimit": 10000
     },
     "inputWidgets": {},
     "nuid": "1c20a45b-b1d6-4418-8978-770b54707f93",
     "showTitle": false,
     "tableResultSettingsMap": {},
     "title": ""
    }
   },
   "outputs": [
    {
     "output_type": "display_data",
     "data": {
      "text/html": [
       "<h3>Avg Duration per Ride by Start Station</h3>"
      ]
     },
     "metadata": {
      "application/vnd.databricks.v1+output": {
       "addedWidgets": {},
       "arguments": {},
       "data": "<h3>Avg Duration per Ride by Start Station</h3>",
       "datasetInfos": [],
       "metadata": {},
       "removedWidgets": [],
       "textData": null,
       "type": "htmlSandbox"
      }
     },
     "output_type": "display_data"
    },
    {
     "output_type": "display_data",
     "data": {
      "text/html": [
       "<style scoped>\n",
       "  .table-result-container {\n",
       "    max-height: 300px;\n",
       "    overflow: auto;\n",
       "  }\n",
       "  table, th, td {\n",
       "    border: 1px solid black;\n",
       "    border-collapse: collapse;\n",
       "  }\n",
       "  th, td {\n",
       "    padding: 5px;\n",
       "  }\n",
       "  th {\n",
       "    text-align: left;\n",
       "  }\n",
       "</style><div class='table-result-container'><table class='table-result'><thead style='background-color: white'><tr><th>start_station_id</th><th>duration_in_seconds_avg</th></tr></thead><tbody><tr><td>556</td><td>32282.28205128205</td></tr><tr><td>665</td><td>32138.354838709678</td></tr><tr><td>587</td><td>24582.036363636365</td></tr><tr><td>564</td><td>21203.466666666667</td></tr><tr><td>16915</td><td>19059.147887323943</td></tr><tr><td>20205</td><td>18518.119047619046</td></tr><tr><td>20230</td><td>17122.447552447553</td></tr><tr><td>642</td><td>16987.561904761904</td></tr><tr><td>537</td><td>16801.197674418603</td></tr><tr><td>20211</td><td>15967.8</td></tr><tr><td>20119</td><td>12931.41791044776</td></tr><tr><td>20103</td><td>12733.497695852535</td></tr><tr><td>20112</td><td>12443.551020408164</td></tr><tr><td>16970</td><td>12293.792682926829</td></tr><tr><td>20231</td><td>11172.219696969696</td></tr><tr><td>18025</td><td>10114.14705882353</td></tr><tr><td>585</td><td>9558.39800995025</td></tr><tr><td>KA1503000028</td><td>9388.099447513812</td></tr><tr><td>16905</td><td>8794.760299625468</td></tr><tr><td>20224</td><td>8758.176781002638</td></tr></tbody></table></div>"
      ]
     },
     "metadata": {
      "application/vnd.databricks.v1+output": {
       "addedWidgets": {},
       "aggData": [],
       "aggError": "",
       "aggOverflow": false,
       "aggSchema": [],
       "aggSeriesLimitReached": false,
       "aggType": "",
       "arguments": {},
       "columnCustomDisplayInfos": {},
       "data": [
        [
         "556",
         32282.28205128205
        ],
        [
         "665",
         32138.354838709678
        ],
        [
         "587",
         24582.036363636365
        ],
        [
         "564",
         21203.466666666667
        ],
        [
         "16915",
         19059.147887323943
        ],
        [
         "20205",
         18518.119047619046
        ],
        [
         "20230",
         17122.447552447553
        ],
        [
         "642",
         16987.561904761904
        ],
        [
         "537",
         16801.197674418603
        ],
        [
         "20211",
         15967.8
        ],
        [
         "20119",
         12931.41791044776
        ],
        [
         "20103",
         12733.497695852535
        ],
        [
         "20112",
         12443.551020408164
        ],
        [
         "16970",
         12293.792682926829
        ],
        [
         "20231",
         11172.219696969696
        ],
        [
         "18025",
         10114.14705882353
        ],
        [
         "585",
         9558.39800995025
        ],
        [
         "KA1503000028",
         9388.099447513812
        ],
        [
         "16905",
         8794.760299625468
        ],
        [
         "20224",
         8758.176781002638
        ]
       ],
       "datasetInfos": [],
       "dbfsResultPath": null,
       "isJsonSchema": true,
       "metadata": {},
       "overflow": false,
       "plotOptions": {
        "customPlotOptions": {},
        "displayType": "table",
        "pivotAggregation": null,
        "pivotColumns": null,
        "xColumns": null,
        "yColumns": null
       },
       "removedWidgets": [],
       "schema": [
        {
         "metadata": "{}",
         "name": "start_station_id",
         "type": "\"string\""
        },
        {
         "metadata": "{}",
         "name": "duration_in_seconds_avg",
         "type": "\"double\""
        }
       ],
       "type": "table"
      }
     },
     "output_type": "display_data"
    }
   ],
   "source": [
    "\n",
    "#Avg and total duration per ride by start station\n",
    "analyze_duration(trip_df, 'start_station_id', avg, 'duration_in_seconds_avg', 'Avg Duration per Ride by Start Station')\n"
   ]
  },
  {
   "cell_type": "code",
   "execution_count": 0,
   "metadata": {
    "application/vnd.databricks.v1+cell": {
     "cellMetadata": {
      "byteLimit": 2048000,
      "rowLimit": 10000
     },
     "inputWidgets": {},
     "nuid": "901954df-25cc-428c-9013-924f5d08ccdc",
     "showTitle": false,
     "tableResultSettingsMap": {},
     "title": ""
    }
   },
   "outputs": [
    {
     "output_type": "display_data",
     "data": {
      "text/html": [
       "<h3>Total Duration per Ride by Start Station</h3>"
      ]
     },
     "metadata": {
      "application/vnd.databricks.v1+output": {
       "addedWidgets": {},
       "arguments": {},
       "data": "<h3>Total Duration per Ride by Start Station</h3>",
       "datasetInfos": [],
       "metadata": {},
       "removedWidgets": [],
       "textData": null,
       "type": "htmlSandbox"
      }
     },
     "output_type": "display_data"
    },
    {
     "output_type": "display_data",
     "data": {
      "text/html": [
       "<style scoped>\n",
       "  .table-result-container {\n",
       "    max-height: 300px;\n",
       "    overflow: auto;\n",
       "  }\n",
       "  table, th, td {\n",
       "    border: 1px solid black;\n",
       "    border-collapse: collapse;\n",
       "  }\n",
       "  th, td {\n",
       "    padding: 5px;\n",
       "  }\n",
       "  th {\n",
       "    text-align: left;\n",
       "  }\n",
       "</style><div class='table-result-container'><table class='table-result'><thead style='background-color: white'><tr><th>start_station_id</th><th>duration_in_seconds_sum</th></tr></thead><tbody><tr><td>13022</td><td>187916156</td></tr><tr><td>13008</td><td>117334698</td></tr><tr><td>13300</td><td>106979129</td></tr><tr><td>13042</td><td>93116342</td></tr><tr><td>LF-005</td><td>81199898</td></tr><tr><td>TA1308000001</td><td>62696489</td></tr><tr><td>15544</td><td>60102129</td></tr><tr><td>KA1503000064</td><td>56824979</td></tr><tr><td>TA1307000117</td><td>53414137</td></tr><tr><td>SL-005</td><td>53211766</td></tr><tr><td>TA1306000029</td><td>50578280</td></tr><tr><td>TA1305000011</td><td>48407664</td></tr><tr><td>13001</td><td>48172339</td></tr><tr><td>15541</td><td>42853279</td></tr><tr><td>TA1306000013</td><td>42218445</td></tr><tr><td>623</td><td>41594454</td></tr><tr><td>TA1307000039</td><td>41163131</td></tr><tr><td>13016</td><td>40696752</td></tr><tr><td>TA1308000012</td><td>40273124</td></tr><tr><td>TA1305000003</td><td>39683495</td></tr></tbody></table></div>"
      ]
     },
     "metadata": {
      "application/vnd.databricks.v1+output": {
       "addedWidgets": {},
       "aggData": [],
       "aggError": "",
       "aggOverflow": false,
       "aggSchema": [],
       "aggSeriesLimitReached": false,
       "aggType": "",
       "arguments": {},
       "columnCustomDisplayInfos": {},
       "data": [
        [
         "13022",
         187916156
        ],
        [
         "13008",
         117334698
        ],
        [
         "13300",
         106979129
        ],
        [
         "13042",
         93116342
        ],
        [
         "LF-005",
         81199898
        ],
        [
         "TA1308000001",
         62696489
        ],
        [
         "15544",
         60102129
        ],
        [
         "KA1503000064",
         56824979
        ],
        [
         "TA1307000117",
         53414137
        ],
        [
         "SL-005",
         53211766
        ],
        [
         "TA1306000029",
         50578280
        ],
        [
         "TA1305000011",
         48407664
        ],
        [
         "13001",
         48172339
        ],
        [
         "15541",
         42853279
        ],
        [
         "TA1306000013",
         42218445
        ],
        [
         "623",
         41594454
        ],
        [
         "TA1307000039",
         41163131
        ],
        [
         "13016",
         40696752
        ],
        [
         "TA1308000012",
         40273124
        ],
        [
         "TA1305000003",
         39683495
        ]
       ],
       "datasetInfos": [],
       "dbfsResultPath": null,
       "isJsonSchema": true,
       "metadata": {},
       "overflow": false,
       "plotOptions": {
        "customPlotOptions": {},
        "displayType": "table",
        "pivotAggregation": null,
        "pivotColumns": null,
        "xColumns": null,
        "yColumns": null
       },
       "removedWidgets": [],
       "schema": [
        {
         "metadata": "{}",
         "name": "start_station_id",
         "type": "\"string\""
        },
        {
         "metadata": "{}",
         "name": "duration_in_seconds_sum",
         "type": "\"long\""
        }
       ],
       "type": "table"
      }
     },
     "output_type": "display_data"
    }
   ],
   "source": [
    "analyze_duration(trip_df, 'start_station_id', sum, 'duration_in_seconds_sum', 'Total Duration per Ride by Start Station')"
   ]
  },
  {
   "cell_type": "code",
   "execution_count": 0,
   "metadata": {
    "application/vnd.databricks.v1+cell": {
     "cellMetadata": {
      "byteLimit": 2048000,
      "rowLimit": 10000
     },
     "inputWidgets": {},
     "nuid": "8f1828bc-1026-4953-8a6c-0a151b125b3b",
     "showTitle": false,
     "tableResultSettingsMap": {},
     "title": ""
    }
   },
   "outputs": [
    {
     "output_type": "display_data",
     "data": {
      "text/html": [
       "<h3>Avg Duration per Ride by End Station</h3>"
      ]
     },
     "metadata": {
      "application/vnd.databricks.v1+output": {
       "addedWidgets": {},
       "arguments": {},
       "data": "<h3>Avg Duration per Ride by End Station</h3>",
       "datasetInfos": [],
       "metadata": {},
       "removedWidgets": [],
       "textData": null,
       "type": "htmlSandbox"
      }
     },
     "output_type": "display_data"
    },
    {
     "output_type": "display_data",
     "data": {
      "text/html": [
       "<style scoped>\n",
       "  .table-result-container {\n",
       "    max-height: 300px;\n",
       "    overflow: auto;\n",
       "  }\n",
       "  table, th, td {\n",
       "    border: 1px solid black;\n",
       "    border-collapse: collapse;\n",
       "  }\n",
       "  th, td {\n",
       "    padding: 5px;\n",
       "  }\n",
       "  th {\n",
       "    text-align: left;\n",
       "  }\n",
       "</style><div class='table-result-container'><table class='table-result'><thead style='background-color: white'><tr><th>end_station_id</th><th>duration_in_seconds_avg</th></tr></thead><tbody><tr><td>Hubbard Bike-checking (LBS-WH-TEST)</td><td>225027.6688034188</td></tr><tr><td>16903</td><td>34183.82307692308</td></tr><tr><td>572</td><td>30121.29268292683</td></tr><tr><td>20110</td><td>22605.49375</td></tr><tr><td>20235</td><td>22308.581818181818</td></tr><tr><td>587</td><td>22039.285714285714</td></tr><tr><td>20204</td><td>18969.841463414636</td></tr><tr><td>20206</td><td>16582.39097744361</td></tr><tr><td>576</td><td>16532.96103896104</td></tr><tr><td>583</td><td>15585.738372093023</td></tr><tr><td>KA1503000055</td><td>15473.907894736842</td></tr><tr><td>20116</td><td>14729.782352941176</td></tr><tr><td>16948</td><td>14325.323741007194</td></tr><tr><td>20230</td><td>12908.711409395974</td></tr><tr><td>20119</td><td>12866.588652482269</td></tr><tr><td>20205</td><td>11726.883870967742</td></tr><tr><td>20242</td><td>11409.217391304348</td></tr><tr><td>20231</td><td>11278.541984732825</td></tr><tr><td>562</td><td>10507.596153846154</td></tr><tr><td>16913</td><td>10404.63963963964</td></tr></tbody></table></div>"
      ]
     },
     "metadata": {
      "application/vnd.databricks.v1+output": {
       "addedWidgets": {},
       "aggData": [],
       "aggError": "",
       "aggOverflow": false,
       "aggSchema": [],
       "aggSeriesLimitReached": false,
       "aggType": "",
       "arguments": {},
       "columnCustomDisplayInfos": {},
       "data": [
        [
         "Hubbard Bike-checking (LBS-WH-TEST)",
         225027.6688034188
        ],
        [
         "16903",
         34183.82307692308
        ],
        [
         "572",
         30121.29268292683
        ],
        [
         "20110",
         22605.49375
        ],
        [
         "20235",
         22308.581818181818
        ],
        [
         "587",
         22039.285714285714
        ],
        [
         "20204",
         18969.841463414636
        ],
        [
         "20206",
         16582.39097744361
        ],
        [
         "576",
         16532.96103896104
        ],
        [
         "583",
         15585.738372093023
        ],
        [
         "KA1503000055",
         15473.907894736842
        ],
        [
         "20116",
         14729.782352941176
        ],
        [
         "16948",
         14325.323741007194
        ],
        [
         "20230",
         12908.711409395974
        ],
        [
         "20119",
         12866.588652482269
        ],
        [
         "20205",
         11726.883870967742
        ],
        [
         "20242",
         11409.217391304348
        ],
        [
         "20231",
         11278.541984732825
        ],
        [
         "562",
         10507.596153846154
        ],
        [
         "16913",
         10404.63963963964
        ]
       ],
       "datasetInfos": [],
       "dbfsResultPath": null,
       "isJsonSchema": true,
       "metadata": {},
       "overflow": false,
       "plotOptions": {
        "customPlotOptions": {},
        "displayType": "table",
        "pivotAggregation": null,
        "pivotColumns": null,
        "xColumns": null,
        "yColumns": null
       },
       "removedWidgets": [],
       "schema": [
        {
         "metadata": "{}",
         "name": "end_station_id",
         "type": "\"string\""
        },
        {
         "metadata": "{}",
         "name": "duration_in_seconds_avg",
         "type": "\"double\""
        }
       ],
       "type": "table"
      }
     },
     "output_type": "display_data"
    }
   ],
   "source": [
    "# Avg and total duration per ride by end station\n",
    "analyze_duration(trip_df, 'end_station_id', avg, 'duration_in_seconds_avg', 'Avg Duration per Ride by End Station')\n"
   ]
  },
  {
   "cell_type": "code",
   "execution_count": 0,
   "metadata": {
    "application/vnd.databricks.v1+cell": {
     "cellMetadata": {
      "byteLimit": 2048000,
      "rowLimit": 10000
     },
     "inputWidgets": {},
     "nuid": "74c2206f-ace8-4afd-8118-a7fe513d8833",
     "showTitle": false,
     "tableResultSettingsMap": {},
     "title": ""
    }
   },
   "outputs": [
    {
     "output_type": "display_data",
     "data": {
      "text/html": [
       "<h3>Total Duration per Ride by End Station</h3>"
      ]
     },
     "metadata": {
      "application/vnd.databricks.v1+output": {
       "addedWidgets": {},
       "arguments": {},
       "data": "<h3>Total Duration per Ride by End Station</h3>",
       "datasetInfos": [],
       "metadata": {},
       "removedWidgets": [],
       "textData": null,
       "type": "htmlSandbox"
      }
     },
     "output_type": "display_data"
    },
    {
     "output_type": "display_data",
     "data": {
      "text/html": [
       "<style scoped>\n",
       "  .table-result-container {\n",
       "    max-height: 300px;\n",
       "    overflow: auto;\n",
       "  }\n",
       "  table, th, td {\n",
       "    border: 1px solid black;\n",
       "    border-collapse: collapse;\n",
       "  }\n",
       "  th, td {\n",
       "    padding: 5px;\n",
       "  }\n",
       "  th {\n",
       "    text-align: left;\n",
       "  }\n",
       "</style><div class='table-result-container'><table class='table-result'><thead style='background-color: white'><tr><th>end_station_id</th><th>duration_in_seconds_sum</th></tr></thead><tbody><tr><td>13022</td><td>188660857</td></tr><tr><td>Hubbard Bike-checking (LBS-WH-TEST)</td><td>105312949</td></tr><tr><td>13300</td><td>99081394</td></tr><tr><td>13008</td><td>93892905</td></tr><tr><td>13042</td><td>90254899</td></tr><tr><td>LF-005</td><td>89314039</td></tr><tr><td>TA1308000001</td><td>69873758</td></tr><tr><td>TA1307000117</td><td>54188519</td></tr><tr><td>15544</td><td>51413366</td></tr><tr><td>SL-005</td><td>48092652</td></tr><tr><td>TA1305000011</td><td>44607311</td></tr><tr><td>13001</td><td>40486650</td></tr><tr><td>623</td><td>39613674</td></tr><tr><td>TA1305000003</td><td>39555144</td></tr><tr><td>13016</td><td>38911749</td></tr><tr><td>TA1308000050</td><td>38874846</td></tr><tr><td>15541</td><td>38704041</td></tr><tr><td>TA1307000039</td><td>38702430</td></tr><tr><td>KA1503000064</td><td>38279713</td></tr><tr><td>TA1306000013</td><td>38215369</td></tr></tbody></table></div>"
      ]
     },
     "metadata": {
      "application/vnd.databricks.v1+output": {
       "addedWidgets": {},
       "aggData": [],
       "aggError": "",
       "aggOverflow": false,
       "aggSchema": [],
       "aggSeriesLimitReached": false,
       "aggType": "",
       "arguments": {},
       "columnCustomDisplayInfos": {},
       "data": [
        [
         "13022",
         188660857
        ],
        [
         "Hubbard Bike-checking (LBS-WH-TEST)",
         105312949
        ],
        [
         "13300",
         99081394
        ],
        [
         "13008",
         93892905
        ],
        [
         "13042",
         90254899
        ],
        [
         "LF-005",
         89314039
        ],
        [
         "TA1308000001",
         69873758
        ],
        [
         "TA1307000117",
         54188519
        ],
        [
         "15544",
         51413366
        ],
        [
         "SL-005",
         48092652
        ],
        [
         "TA1305000011",
         44607311
        ],
        [
         "13001",
         40486650
        ],
        [
         "623",
         39613674
        ],
        [
         "TA1305000003",
         39555144
        ],
        [
         "13016",
         38911749
        ],
        [
         "TA1308000050",
         38874846
        ],
        [
         "15541",
         38704041
        ],
        [
         "TA1307000039",
         38702430
        ],
        [
         "KA1503000064",
         38279713
        ],
        [
         "TA1306000013",
         38215369
        ]
       ],
       "datasetInfos": [],
       "dbfsResultPath": null,
       "isJsonSchema": true,
       "metadata": {},
       "overflow": false,
       "plotOptions": {
        "customPlotOptions": {},
        "displayType": "table",
        "pivotAggregation": null,
        "pivotColumns": null,
        "xColumns": null,
        "yColumns": null
       },
       "removedWidgets": [],
       "schema": [
        {
         "metadata": "{}",
         "name": "end_station_id",
         "type": "\"string\""
        },
        {
         "metadata": "{}",
         "name": "duration_in_seconds_sum",
         "type": "\"long\""
        }
       ],
       "type": "table"
      }
     },
     "output_type": "display_data"
    }
   ],
   "source": [
    "analyze_duration(trip_df, 'end_station_id', sum, 'duration_in_seconds_sum', 'Total Duration per Ride by End Station')\n"
   ]
  },
  {
   "cell_type": "code",
   "execution_count": 0,
   "metadata": {
    "application/vnd.databricks.v1+cell": {
     "cellMetadata": {
      "byteLimit": 2048000,
      "rowLimit": 10000
     },
     "inputWidgets": {},
     "nuid": "b689e0a7-52e4-43ed-ad04-4728ffd3ed5b",
     "showTitle": false,
     "tableResultSettingsMap": {},
     "title": ""
    }
   },
   "outputs": [
    {
     "output_type": "display_data",
     "data": {
      "text/html": [
       "<style scoped>\n",
       "  .ansiout {\n",
       "    display: block;\n",
       "    unicode-bidi: embed;\n",
       "    white-space: pre-wrap;\n",
       "    word-wrap: break-word;\n",
       "    word-break: break-all;\n",
       "    font-family: \"Menlo\", \"Monaco\", \"Consolas\", \"Ubuntu Mono\", \"Source Code Pro\", monospace;\n",
       "    font-size: 13px;\n",
       "    color: #555;\n",
       "    margin-left: 4px;\n",
       "    line-height: 19px;\n",
       "  }\n",
       "</style>\n",
       "<div class=\"ansiout\"></div>"
      ]
     },
     "metadata": {
      "application/vnd.databricks.v1+output": {
       "addedWidgets": {},
       "arguments": {},
       "data": "<div class=\"ansiout\"></div>",
       "datasetInfos": [],
       "metadata": {},
       "removedWidgets": [],
       "type": "html"
      }
     },
     "output_type": "display_data"
    }
   ],
   "source": [
    "def analyze_duration_by_age(df: DataFrame, group_col: str, agg_func: Column, alias: str, title: str) -> None:\n",
    "    \"\"\"\n",
    "    Analyze duration data by joining with the rider DataFrame, grouping by the specified column, and applying an aggregation function.\n",
    "\n",
    "    Args:\n",
    "        df (DataFrame): DataFrame containing duration data.\n",
    "        group_col (str): Column to group by.\n",
    "        agg_func (Column): Aggregation function (avg, sum).\n",
    "        alias (str): Alias for the aggregated column.\n",
    "        title (str): Title for the results.\n",
    "\n",
    "    Returns:\n",
    "        None\n",
    "    \"\"\"\n",
    "    result_df = df.join(rider_df, df.rider_id == rider_df.rider_id)\\\n",
    "                  .groupBy(group_col)\\\n",
    "                  .agg(agg_func('duration').alias(alias))\\\n",
    "                  .orderBy(alias, ascending=False)\n",
    "    \n",
    "    # Display title and results\n",
    "    displayHTML(f\"<h3>{title}</h3>\")\n",
    "    display(result_df.limit(10))\n"
   ]
  },
  {
   "cell_type": "code",
   "execution_count": 0,
   "metadata": {
    "application/vnd.databricks.v1+cell": {
     "cellMetadata": {
      "byteLimit": 2048000,
      "rowLimit": 10000
     },
     "inputWidgets": {},
     "nuid": "a728e34d-9dcf-4446-85ae-2c5a19d32a00",
     "showTitle": false,
     "tableResultSettingsMap": {},
     "title": ""
    }
   },
   "outputs": [
    {
     "output_type": "display_data",
     "data": {
      "text/html": [
       "<h3>Total Duration by Age at Account Start</h3>"
      ]
     },
     "metadata": {
      "application/vnd.databricks.v1+output": {
       "addedWidgets": {},
       "arguments": {},
       "data": "<h3>Total Duration by Age at Account Start</h3>",
       "datasetInfos": [],
       "metadata": {},
       "removedWidgets": [],
       "textData": null,
       "type": "htmlSandbox"
      }
     },
     "output_type": "display_data"
    },
    {
     "output_type": "display_data",
     "data": {
      "text/html": [
       "<style scoped>\n",
       "  .table-result-container {\n",
       "    max-height: 300px;\n",
       "    overflow: auto;\n",
       "  }\n",
       "  table, th, td {\n",
       "    border: 1px solid black;\n",
       "    border-collapse: collapse;\n",
       "  }\n",
       "  th, td {\n",
       "    padding: 5px;\n",
       "  }\n",
       "  th {\n",
       "    text-align: left;\n",
       "  }\n",
       "</style><div class='table-result-container'><table class='table-result'><thead style='background-color: white'><tr><th>age_at_account_start</th><th>duration_in_seconds_sum</th></tr></thead><tbody><tr><td>21</td><td>215010534</td></tr><tr><td>20</td><td>214451543</td></tr><tr><td>27</td><td>209277158</td></tr><tr><td>29</td><td>208144875</td></tr><tr><td>28</td><td>205816599</td></tr><tr><td>26</td><td>205726013</td></tr><tr><td>22</td><td>202994843</td></tr><tr><td>23</td><td>201672668</td></tr><tr><td>32</td><td>199158471</td></tr><tr><td>25</td><td>196682378</td></tr></tbody></table></div>"
      ]
     },
     "metadata": {
      "application/vnd.databricks.v1+output": {
       "addedWidgets": {},
       "aggData": [],
       "aggError": "",
       "aggOverflow": false,
       "aggSchema": [],
       "aggSeriesLimitReached": false,
       "aggType": "",
       "arguments": {},
       "columnCustomDisplayInfos": {},
       "data": [
        [
         21,
         215010534
        ],
        [
         20,
         214451543
        ],
        [
         27,
         209277158
        ],
        [
         29,
         208144875
        ],
        [
         28,
         205816599
        ],
        [
         26,
         205726013
        ],
        [
         22,
         202994843
        ],
        [
         23,
         201672668
        ],
        [
         32,
         199158471
        ],
        [
         25,
         196682378
        ]
       ],
       "datasetInfos": [],
       "dbfsResultPath": null,
       "isJsonSchema": true,
       "metadata": {},
       "overflow": false,
       "plotOptions": {
        "customPlotOptions": {},
        "displayType": "table",
        "pivotAggregation": null,
        "pivotColumns": null,
        "xColumns": null,
        "yColumns": null
       },
       "removedWidgets": [],
       "schema": [
        {
         "metadata": "{}",
         "name": "age_at_account_start",
         "type": "\"integer\""
        },
        {
         "metadata": "{}",
         "name": "duration_in_seconds_sum",
         "type": "\"long\""
        }
       ],
       "type": "table"
      }
     },
     "output_type": "display_data"
    }
   ],
   "source": [
    "\n",
    "analyze_duration_by_age(trip_df, 'age_at_account_start', sum, 'duration_in_seconds_sum', 'Total Duration by Age at Account Start')\n"
   ]
  },
  {
   "cell_type": "code",
   "execution_count": 0,
   "metadata": {
    "application/vnd.databricks.v1+cell": {
     "cellMetadata": {
      "byteLimit": 2048000,
      "rowLimit": 10000
     },
     "inputWidgets": {},
     "nuid": "35415160-3eeb-4a42-b38a-dab8e0c00ef9",
     "showTitle": false,
     "tableResultSettingsMap": {},
     "title": ""
    }
   },
   "outputs": [
    {
     "output_type": "display_data",
     "data": {
      "text/html": [
       "<h3>Avg Duration by Age at Account Start</h3>"
      ]
     },
     "metadata": {
      "application/vnd.databricks.v1+output": {
       "addedWidgets": {},
       "arguments": {},
       "data": "<h3>Avg Duration by Age at Account Start</h3>",
       "datasetInfos": [],
       "metadata": {},
       "removedWidgets": [],
       "textData": null,
       "type": "htmlSandbox"
      }
     },
     "output_type": "display_data"
    },
    {
     "output_type": "display_data",
     "data": {
      "text/html": [
       "<style scoped>\n",
       "  .table-result-container {\n",
       "    max-height: 300px;\n",
       "    overflow: auto;\n",
       "  }\n",
       "  table, th, td {\n",
       "    border: 1px solid black;\n",
       "    border-collapse: collapse;\n",
       "  }\n",
       "  th, td {\n",
       "    padding: 5px;\n",
       "  }\n",
       "  th {\n",
       "    text-align: left;\n",
       "  }\n",
       "</style><div class='table-result-container'><table class='table-result'><thead style='background-color: white'><tr><th>age_at_account_start</th><th>duration_in_seconds_avg</th></tr></thead><tbody><tr><td>7</td><td>3494.3839541547277</td></tr><tr><td>67</td><td>1800.708793849111</td></tr><tr><td>8</td><td>1720.1452229299364</td></tr><tr><td>74</td><td>1707.3125</td></tr><tr><td>62</td><td>1534.881186706604</td></tr><tr><td>11</td><td>1489.5041909519844</td></tr><tr><td>66</td><td>1441.1453224341508</td></tr><tr><td>64</td><td>1428.9561598224195</td></tr><tr><td>59</td><td>1415.002880237852</td></tr><tr><td>32</td><td>1381.481177555961</td></tr></tbody></table></div>"
      ]
     },
     "metadata": {
      "application/vnd.databricks.v1+output": {
       "addedWidgets": {},
       "aggData": [],
       "aggError": "",
       "aggOverflow": false,
       "aggSchema": [],
       "aggSeriesLimitReached": false,
       "aggType": "",
       "arguments": {},
       "columnCustomDisplayInfos": {},
       "data": [
        [
         7,
         3494.3839541547277
        ],
        [
         67,
         1800.708793849111
        ],
        [
         8,
         1720.1452229299364
        ],
        [
         74,
         1707.3125
        ],
        [
         62,
         1534.881186706604
        ],
        [
         11,
         1489.5041909519844
        ],
        [
         66,
         1441.1453224341508
        ],
        [
         64,
         1428.9561598224195
        ],
        [
         59,
         1415.002880237852
        ],
        [
         32,
         1381.481177555961
        ]
       ],
       "datasetInfos": [],
       "dbfsResultPath": null,
       "isJsonSchema": true,
       "metadata": {},
       "overflow": false,
       "plotOptions": {
        "customPlotOptions": {},
        "displayType": "table",
        "pivotAggregation": null,
        "pivotColumns": null,
        "xColumns": null,
        "yColumns": null
       },
       "removedWidgets": [],
       "schema": [
        {
         "metadata": "{}",
         "name": "age_at_account_start",
         "type": "\"integer\""
        },
        {
         "metadata": "{}",
         "name": "duration_in_seconds_avg",
         "type": "\"double\""
        }
       ],
       "type": "table"
      }
     },
     "output_type": "display_data"
    }
   ],
   "source": [
    "# Avg and total duration by age at account start\n",
    "analyze_duration_by_age(trip_df, 'age_at_account_start', avg, 'duration_in_seconds_avg', 'Avg Duration by Age at Account Start')\n"
   ]
  },
  {
   "cell_type": "code",
   "execution_count": 0,
   "metadata": {
    "application/vnd.databricks.v1+cell": {
     "cellMetadata": {
      "byteLimit": 2048000,
      "rowLimit": 10000
     },
     "inputWidgets": {},
     "nuid": "5803bc12-edb6-47ea-a0ab-b34e54834e96",
     "showTitle": false,
     "tableResultSettingsMap": {},
     "title": ""
    }
   },
   "outputs": [
    {
     "output_type": "display_data",
     "data": {
      "text/html": [
       "<h3>Avg Duration by Rider Membership</h3>"
      ]
     },
     "metadata": {
      "application/vnd.databricks.v1+output": {
       "addedWidgets": {},
       "arguments": {},
       "data": "<h3>Avg Duration by Rider Membership</h3>",
       "datasetInfos": [],
       "metadata": {},
       "removedWidgets": [],
       "textData": null,
       "type": "htmlSandbox"
      }
     },
     "output_type": "display_data"
    },
    {
     "output_type": "display_data",
     "data": {
      "text/html": [
       "<style scoped>\n",
       "  .table-result-container {\n",
       "    max-height: 300px;\n",
       "    overflow: auto;\n",
       "  }\n",
       "  table, th, td {\n",
       "    border: 1px solid black;\n",
       "    border-collapse: collapse;\n",
       "  }\n",
       "  th, td {\n",
       "    padding: 5px;\n",
       "  }\n",
       "  th {\n",
       "    text-align: left;\n",
       "  }\n",
       "</style><div class='table-result-container'><table class='table-result'><thead style='background-color: white'><tr><th>is_member</th><th>duration_in_seconds_avg</th></tr></thead><tbody><tr><td>true</td><td>1314.2656120356567</td></tr><tr><td>false</td><td>1279.4272573384933</td></tr></tbody></table></div>"
      ]
     },
     "metadata": {
      "application/vnd.databricks.v1+output": {
       "addedWidgets": {},
       "aggData": [],
       "aggError": "",
       "aggOverflow": false,
       "aggSchema": [],
       "aggSeriesLimitReached": false,
       "aggType": "",
       "arguments": {},
       "columnCustomDisplayInfos": {},
       "data": [
        [
         true,
         1314.2656120356567
        ],
        [
         false,
         1279.4272573384933
        ]
       ],
       "datasetInfos": [],
       "dbfsResultPath": null,
       "isJsonSchema": true,
       "metadata": {},
       "overflow": false,
       "plotOptions": {
        "customPlotOptions": {},
        "displayType": "table",
        "pivotAggregation": null,
        "pivotColumns": null,
        "xColumns": null,
        "yColumns": null
       },
       "removedWidgets": [],
       "schema": [
        {
         "metadata": "{}",
         "name": "is_member",
         "type": "\"boolean\""
        },
        {
         "metadata": "{}",
         "name": "duration_in_seconds_avg",
         "type": "\"double\""
        }
       ],
       "type": "table"
      }
     },
     "output_type": "display_data"
    },
    {
     "output_type": "display_data",
     "data": {
      "text/html": [
       "<h3>Total Duration by Rider Membership</h3>"
      ]
     },
     "metadata": {
      "application/vnd.databricks.v1+output": {
       "addedWidgets": {},
       "arguments": {},
       "data": "<h3>Total Duration by Rider Membership</h3>",
       "datasetInfos": [],
       "metadata": {},
       "removedWidgets": [],
       "textData": null,
       "type": "htmlSandbox"
      }
     },
     "output_type": "display_data"
    },
    {
     "output_type": "display_data",
     "data": {
      "text/html": [
       "<style scoped>\n",
       "  .table-result-container {\n",
       "    max-height: 300px;\n",
       "    overflow: auto;\n",
       "  }\n",
       "  table, th, td {\n",
       "    border: 1px solid black;\n",
       "    border-collapse: collapse;\n",
       "  }\n",
       "  th, td {\n",
       "    padding: 5px;\n",
       "  }\n",
       "  th {\n",
       "    text-align: left;\n",
       "  }\n",
       "</style><div class='table-result-container'><table class='table-result'><thead style='background-color: white'><tr><th>is_member</th><th>duration_in_seconds_sum</th></tr></thead><tbody><tr><td>true</td><td>4818499899</td></tr><tr><td>false</td><td>1175301070</td></tr></tbody></table></div>"
      ]
     },
     "metadata": {
      "application/vnd.databricks.v1+output": {
       "addedWidgets": {},
       "aggData": [],
       "aggError": "",
       "aggOverflow": false,
       "aggSchema": [],
       "aggSeriesLimitReached": false,
       "aggType": "",
       "arguments": {},
       "columnCustomDisplayInfos": {},
       "data": [
        [
         true,
         4818499899
        ],
        [
         false,
         1175301070
        ]
       ],
       "datasetInfos": [],
       "dbfsResultPath": null,
       "isJsonSchema": true,
       "metadata": {},
       "overflow": false,
       "plotOptions": {
        "customPlotOptions": {},
        "displayType": "table",
        "pivotAggregation": null,
        "pivotColumns": null,
        "xColumns": null,
        "yColumns": null
       },
       "removedWidgets": [],
       "schema": [
        {
         "metadata": "{}",
         "name": "is_member",
         "type": "\"boolean\""
        },
        {
         "metadata": "{}",
         "name": "duration_in_seconds_sum",
         "type": "\"long\""
        }
       ],
       "type": "table"
      }
     },
     "output_type": "display_data"
    }
   ],
   "source": [
    "def analyze_duration_by_membership(df: DataFrame, group_col: str, agg_func: Column, alias: str, title: str) -> None:\n",
    "    \"\"\"\n",
    "    Analyze duration data by joining with the rider DataFrame, grouping by membership status, and applying an aggregation function.\n",
    "\n",
    "    Args:\n",
    "        df (DataFrame): DataFrame containing duration data.\n",
    "        group_col (str): Column to group by.\n",
    "        agg_func (Column): Aggregation function (avg, sum).\n",
    "        alias (str): Alias for the aggregated column.\n",
    "        title (str): Title for the results.\n",
    "\n",
    "    Returns:\n",
    "        None\n",
    "    \"\"\"\n",
    "    result_df = df.join(rider_df, 'rider_id')\\\n",
    "                  .groupBy(group_col)\\\n",
    "                  .agg(agg_func('duration').alias(alias))\\\n",
    "                  .orderBy(alias, ascending=False)\n",
    "    \n",
    "    # Display title and results\n",
    "    displayHTML(f\"<h3>{title}</h3>\")\n",
    "    display(result_df.limit(10))\n",
    "\n",
    "# Avg and total duration by rider membership\n",
    "analyze_duration_by_membership(trip_df, 'is_member', avg, 'duration_in_seconds_avg', 'Avg Duration by Rider Membership')\n",
    "analyze_duration_by_membership(trip_df, 'is_member', sum, 'duration_in_seconds_sum', 'Total Duration by Rider Membership')\n"
   ]
  },
  {
   "cell_type": "markdown",
   "metadata": {
    "application/vnd.databricks.v1+cell": {
     "cellMetadata": {},
     "inputWidgets": {},
     "nuid": "5a362792-1768-4999-832d-c5a2426e01bd",
     "showTitle": false,
     "tableResultSettingsMap": {},
     "title": ""
    }
   },
   "source": [
    "## Payment Table Queries For Analyzing Payment Data"
   ]
  },
  {
   "cell_type": "code",
   "execution_count": 0,
   "metadata": {
    "application/vnd.databricks.v1+cell": {
     "cellMetadata": {
      "byteLimit": 2048000,
      "rowLimit": 10000
     },
     "inputWidgets": {},
     "nuid": "23ea5766-5f3a-405c-99c4-9909ddc8d2f7",
     "showTitle": false,
     "tableResultSettingsMap": {},
     "title": ""
    }
   },
   "outputs": [
    {
     "output_type": "display_data",
     "data": {
      "text/html": [
       "<h3>Total Amount by Month</h3>"
      ]
     },
     "metadata": {
      "application/vnd.databricks.v1+output": {
       "addedWidgets": {},
       "arguments": {},
       "data": "<h3>Total Amount by Month</h3>",
       "datasetInfos": [],
       "metadata": {},
       "removedWidgets": [],
       "textData": null,
       "type": "htmlSandbox"
      }
     },
     "output_type": "display_data"
    },
    {
     "output_type": "display_data",
     "data": {
      "text/html": [
       "<style scoped>\n",
       "  .table-result-container {\n",
       "    max-height: 300px;\n",
       "    overflow: auto;\n",
       "  }\n",
       "  table, th, td {\n",
       "    border: 1px solid black;\n",
       "    border-collapse: collapse;\n",
       "  }\n",
       "  th, td {\n",
       "    padding: 5px;\n",
       "  }\n",
       "  th {\n",
       "    text-align: left;\n",
       "  }\n",
       "</style><div class='table-result-container'><table class='table-result'><thead style='background-color: white'><tr><th>month</th><th>amount_sum</th></tr></thead><tbody><tr><td>2</td><td>1908071</td></tr><tr><td>1</td><td>1855960</td></tr><tr><td>12</td><td>1799954</td></tr><tr><td>11</td><td>1747391</td></tr><tr><td>10</td><td>1696403</td></tr><tr><td>9</td><td>1642068</td></tr><tr><td>8</td><td>1592482</td></tr><tr><td>7</td><td>1539179</td></tr><tr><td>6</td><td>1491380</td></tr><tr><td>5</td><td>1441372</td></tr></tbody></table></div>"
      ]
     },
     "metadata": {
      "application/vnd.databricks.v1+output": {
       "addedWidgets": {},
       "aggData": [],
       "aggError": "",
       "aggOverflow": false,
       "aggSchema": [],
       "aggSeriesLimitReached": false,
       "aggType": "",
       "arguments": {},
       "columnCustomDisplayInfos": {},
       "data": [
        [
         2,
         "1908071"
        ],
        [
         1,
         "1855960"
        ],
        [
         12,
         "1799954"
        ],
        [
         11,
         "1747391"
        ],
        [
         10,
         "1696403"
        ],
        [
         9,
         "1642068"
        ],
        [
         8,
         "1592482"
        ],
        [
         7,
         "1539179"
        ],
        [
         6,
         "1491380"
        ],
        [
         5,
         "1441372"
        ]
       ],
       "datasetInfos": [],
       "dbfsResultPath": null,
       "isJsonSchema": true,
       "metadata": {},
       "overflow": false,
       "plotOptions": {
        "customPlotOptions": {},
        "displayType": "table",
        "pivotAggregation": null,
        "pivotColumns": null,
        "xColumns": null,
        "yColumns": null
       },
       "removedWidgets": [],
       "schema": [
        {
         "metadata": "{}",
         "name": "month",
         "type": "\"integer\""
        },
        {
         "metadata": "{}",
         "name": "amount_sum",
         "type": "\"decimal(20,0)\""
        }
       ],
       "type": "table"
      }
     },
     "output_type": "display_data"
    },
    {
     "output_type": "display_data",
     "data": {
      "text/html": [
       "<h3>Average Amount by Month</h3>"
      ]
     },
     "metadata": {
      "application/vnd.databricks.v1+output": {
       "addedWidgets": {},
       "arguments": {},
       "data": "<h3>Average Amount by Month</h3>",
       "datasetInfos": [],
       "metadata": {},
       "removedWidgets": [],
       "textData": null,
       "type": "htmlSandbox"
      }
     },
     "output_type": "display_data"
    },
    {
     "output_type": "display_data",
     "data": {
      "text/html": [
       "<style scoped>\n",
       "  .table-result-container {\n",
       "    max-height: 300px;\n",
       "    overflow: auto;\n",
       "  }\n",
       "  table, th, td {\n",
       "    border: 1px solid black;\n",
       "    border-collapse: collapse;\n",
       "  }\n",
       "  th, td {\n",
       "    padding: 5px;\n",
       "  }\n",
       "  th {\n",
       "    text-align: left;\n",
       "  }\n",
       "</style><div class='table-result-container'><table class='table-result'><thead style='background-color: white'><tr><th>month</th><th>amount_avg</th></tr></thead><tbody><tr><td>8</td><td>10.0111</td></tr><tr><td>2</td><td>10.0034</td></tr><tr><td>10</td><td>10.0034</td></tr><tr><td>1</td><td>10.0006</td></tr><tr><td>3</td><td>9.9987</td></tr><tr><td>4</td><td>9.9946</td></tr><tr><td>6</td><td>9.9934</td></tr><tr><td>9</td><td>9.9933</td></tr><tr><td>12</td><td>9.9931</td></tr><tr><td>7</td><td>9.9894</td></tr></tbody></table></div>"
      ]
     },
     "metadata": {
      "application/vnd.databricks.v1+output": {
       "addedWidgets": {},
       "aggData": [],
       "aggError": "",
       "aggOverflow": false,
       "aggSchema": [],
       "aggSeriesLimitReached": false,
       "aggType": "",
       "arguments": {},
       "columnCustomDisplayInfos": {},
       "data": [
        [
         8,
         "10.0111"
        ],
        [
         2,
         "10.0034"
        ],
        [
         10,
         "10.0034"
        ],
        [
         1,
         "10.0006"
        ],
        [
         3,
         "9.9987"
        ],
        [
         4,
         "9.9946"
        ],
        [
         6,
         "9.9934"
        ],
        [
         9,
         "9.9933"
        ],
        [
         12,
         "9.9931"
        ],
        [
         7,
         "9.9894"
        ]
       ],
       "datasetInfos": [],
       "dbfsResultPath": null,
       "isJsonSchema": true,
       "metadata": {},
       "overflow": false,
       "plotOptions": {
        "customPlotOptions": {},
        "displayType": "table",
        "pivotAggregation": null,
        "pivotColumns": null,
        "xColumns": null,
        "yColumns": null
       },
       "removedWidgets": [],
       "schema": [
        {
         "metadata": "{}",
         "name": "month",
         "type": "\"integer\""
        },
        {
         "metadata": "{}",
         "name": "amount_avg",
         "type": "\"decimal(14,4)\""
        }
       ],
       "type": "table"
      }
     },
     "output_type": "display_data"
    },
    {
     "output_type": "display_data",
     "data": {
      "text/html": [
       "<h3>Total Amount by Quarter</h3>"
      ]
     },
     "metadata": {
      "application/vnd.databricks.v1+output": {
       "addedWidgets": {},
       "arguments": {},
       "data": "<h3>Total Amount by Quarter</h3>",
       "datasetInfos": [],
       "metadata": {},
       "removedWidgets": [],
       "textData": null,
       "type": "htmlSandbox"
      }
     },
     "output_type": "display_data"
    },
    {
     "output_type": "display_data",
     "data": {
      "text/html": [
       "<style scoped>\n",
       "  .table-result-container {\n",
       "    max-height: 300px;\n",
       "    overflow: auto;\n",
       "  }\n",
       "  table, th, td {\n",
       "    border: 1px solid black;\n",
       "    border-collapse: collapse;\n",
       "  }\n",
       "  th, td {\n",
       "    padding: 5px;\n",
       "  }\n",
       "  th {\n",
       "    text-align: left;\n",
       "  }\n",
       "</style><div class='table-result-container'><table class='table-result'><thead style='background-color: white'><tr><th>quarter</th><th>amount_sum</th></tr></thead><tbody><tr><td>4</td><td>5243748</td></tr><tr><td>1</td><td>5112962</td></tr><tr><td>3</td><td>4773729</td></tr><tr><td>2</td><td>4328674</td></tr></tbody></table></div>"
      ]
     },
     "metadata": {
      "application/vnd.databricks.v1+output": {
       "addedWidgets": {},
       "aggData": [],
       "aggError": "",
       "aggOverflow": false,
       "aggSchema": [],
       "aggSeriesLimitReached": false,
       "aggType": "",
       "arguments": {},
       "columnCustomDisplayInfos": {},
       "data": [
        [
         4,
         "5243748"
        ],
        [
         1,
         "5112962"
        ],
        [
         3,
         "4773729"
        ],
        [
         2,
         "4328674"
        ]
       ],
       "datasetInfos": [],
       "dbfsResultPath": null,
       "isJsonSchema": true,
       "metadata": {},
       "overflow": false,
       "plotOptions": {
        "customPlotOptions": {},
        "displayType": "table",
        "pivotAggregation": null,
        "pivotColumns": null,
        "xColumns": null,
        "yColumns": null
       },
       "removedWidgets": [],
       "schema": [
        {
         "metadata": "{}",
         "name": "quarter",
         "type": "\"integer\""
        },
        {
         "metadata": "{}",
         "name": "amount_sum",
         "type": "\"decimal(20,0)\""
        }
       ],
       "type": "table"
      }
     },
     "output_type": "display_data"
    },
    {
     "output_type": "display_data",
     "data": {
      "text/html": [
       "<h3>Average Amount by Quarter</h3>"
      ]
     },
     "metadata": {
      "application/vnd.databricks.v1+output": {
       "addedWidgets": {},
       "arguments": {},
       "data": "<h3>Average Amount by Quarter</h3>",
       "datasetInfos": [],
       "metadata": {},
       "removedWidgets": [],
       "textData": null,
       "type": "htmlSandbox"
      }
     },
     "output_type": "display_data"
    },
    {
     "output_type": "display_data",
     "data": {
      "text/html": [
       "<style scoped>\n",
       "  .table-result-container {\n",
       "    max-height: 300px;\n",
       "    overflow: auto;\n",
       "  }\n",
       "  table, th, td {\n",
       "    border: 1px solid black;\n",
       "    border-collapse: collapse;\n",
       "  }\n",
       "  th, td {\n",
       "    padding: 5px;\n",
       "  }\n",
       "  th {\n",
       "    text-align: left;\n",
       "  }\n",
       "</style><div class='table-result-container'><table class='table-result'><thead style='background-color: white'><tr><th>quarter</th><th>amount_avg</th></tr></thead><tbody><tr><td>1</td><td>10.0011</td></tr><tr><td>3</td><td>9.9980</td></tr><tr><td>4</td><td>9.9944</td></tr><tr><td>2</td><td>9.9916</td></tr></tbody></table></div>"
      ]
     },
     "metadata": {
      "application/vnd.databricks.v1+output": {
       "addedWidgets": {},
       "aggData": [],
       "aggError": "",
       "aggOverflow": false,
       "aggSchema": [],
       "aggSeriesLimitReached": false,
       "aggType": "",
       "arguments": {},
       "columnCustomDisplayInfos": {},
       "data": [
        [
         1,
         "10.0011"
        ],
        [
         3,
         "9.9980"
        ],
        [
         4,
         "9.9944"
        ],
        [
         2,
         "9.9916"
        ]
       ],
       "datasetInfos": [],
       "dbfsResultPath": null,
       "isJsonSchema": true,
       "metadata": {},
       "overflow": false,
       "plotOptions": {
        "customPlotOptions": {},
        "displayType": "table",
        "pivotAggregation": null,
        "pivotColumns": null,
        "xColumns": null,
        "yColumns": null
       },
       "removedWidgets": [],
       "schema": [
        {
         "metadata": "{}",
         "name": "quarter",
         "type": "\"integer\""
        },
        {
         "metadata": "{}",
         "name": "amount_avg",
         "type": "\"decimal(14,4)\""
        }
       ],
       "type": "table"
      }
     },
     "output_type": "display_data"
    },
    {
     "output_type": "display_data",
     "data": {
      "text/html": [
       "<h3>Total Amount by Year</h3>"
      ]
     },
     "metadata": {
      "application/vnd.databricks.v1+output": {
       "addedWidgets": {},
       "arguments": {},
       "data": "<h3>Total Amount by Year</h3>",
       "datasetInfos": [],
       "metadata": {},
       "removedWidgets": [],
       "textData": null,
       "type": "htmlSandbox"
      }
     },
     "output_type": "display_data"
    },
    {
     "output_type": "display_data",
     "data": {
      "text/html": [
       "<style scoped>\n",
       "  .table-result-container {\n",
       "    max-height: 300px;\n",
       "    overflow: auto;\n",
       "  }\n",
       "  table, th, td {\n",
       "    border: 1px solid black;\n",
       "    border-collapse: collapse;\n",
       "  }\n",
       "  th, td {\n",
       "    padding: 5px;\n",
       "  }\n",
       "  th {\n",
       "    text-align: left;\n",
       "  }\n",
       "</style><div class='table-result-container'><table class='table-result'><thead style='background-color: white'><tr><th>year</th><th>amount_sum</th></tr></thead><tbody><tr><td>2021</td><td>6081656</td></tr><tr><td>2020</td><td>4315927</td></tr><tr><td>2019</td><td>2979103</td></tr><tr><td>2018</td><td>2000331</td></tr><tr><td>2017</td><td>1308377</td></tr><tr><td>2022</td><td>1190158</td></tr><tr><td>2016</td><td>825176</td></tr><tr><td>2015</td><td>477229</td></tr><tr><td>2014</td><td>227451</td></tr><tr><td>2013</td><td>53705</td></tr></tbody></table></div>"
      ]
     },
     "metadata": {
      "application/vnd.databricks.v1+output": {
       "addedWidgets": {},
       "aggData": [],
       "aggError": "",
       "aggOverflow": false,
       "aggSchema": [],
       "aggSeriesLimitReached": false,
       "aggType": "",
       "arguments": {},
       "columnCustomDisplayInfos": {},
       "data": [
        [
         2021,
         "6081656"
        ],
        [
         2020,
         "4315927"
        ],
        [
         2019,
         "2979103"
        ],
        [
         2018,
         "2000331"
        ],
        [
         2017,
         "1308377"
        ],
        [
         2022,
         "1190158"
        ],
        [
         2016,
         "825176"
        ],
        [
         2015,
         "477229"
        ],
        [
         2014,
         "227451"
        ],
        [
         2013,
         "53705"
        ]
       ],
       "datasetInfos": [],
       "dbfsResultPath": null,
       "isJsonSchema": true,
       "metadata": {},
       "overflow": false,
       "plotOptions": {
        "customPlotOptions": {},
        "displayType": "table",
        "pivotAggregation": null,
        "pivotColumns": null,
        "xColumns": null,
        "yColumns": null
       },
       "removedWidgets": [],
       "schema": [
        {
         "metadata": "{}",
         "name": "year",
         "type": "\"integer\""
        },
        {
         "metadata": "{}",
         "name": "amount_sum",
         "type": "\"decimal(20,0)\""
        }
       ],
       "type": "table"
      }
     },
     "output_type": "display_data"
    },
    {
     "output_type": "display_data",
     "data": {
      "text/html": [
       "<h3>Average Amount by Year</h3>"
      ]
     },
     "metadata": {
      "application/vnd.databricks.v1+output": {
       "addedWidgets": {},
       "arguments": {},
       "data": "<h3>Average Amount by Year</h3>",
       "datasetInfos": [],
       "metadata": {},
       "removedWidgets": [],
       "textData": null,
       "type": "htmlSandbox"
      }
     },
     "output_type": "display_data"
    },
    {
     "output_type": "display_data",
     "data": {
      "text/html": [
       "<style scoped>\n",
       "  .table-result-container {\n",
       "    max-height: 300px;\n",
       "    overflow: auto;\n",
       "  }\n",
       "  table, th, td {\n",
       "    border: 1px solid black;\n",
       "    border-collapse: collapse;\n",
       "  }\n",
       "  th, td {\n",
       "    padding: 5px;\n",
       "  }\n",
       "  th {\n",
       "    text-align: left;\n",
       "  }\n",
       "</style><div class='table-result-container'><table class='table-result'><thead style='background-color: white'><tr><th>year</th><th>amount_avg</th></tr></thead><tbody><tr><td>2014</td><td>10.0606</td></tr><tr><td>2015</td><td>10.0579</td></tr><tr><td>2013</td><td>10.0364</td></tr><tr><td>2016</td><td>10.0046</td></tr><tr><td>2020</td><td>9.9991</td></tr><tr><td>2021</td><td>9.9937</td></tr><tr><td>2017</td><td>9.9925</td></tr><tr><td>2019</td><td>9.9915</td></tr><tr><td>2022</td><td>9.9907</td></tr><tr><td>2018</td><td>9.9861</td></tr></tbody></table></div>"
      ]
     },
     "metadata": {
      "application/vnd.databricks.v1+output": {
       "addedWidgets": {},
       "aggData": [],
       "aggError": "",
       "aggOverflow": false,
       "aggSchema": [],
       "aggSeriesLimitReached": false,
       "aggType": "",
       "arguments": {},
       "columnCustomDisplayInfos": {},
       "data": [
        [
         2014,
         "10.0606"
        ],
        [
         2015,
         "10.0579"
        ],
        [
         2013,
         "10.0364"
        ],
        [
         2016,
         "10.0046"
        ],
        [
         2020,
         "9.9991"
        ],
        [
         2021,
         "9.9937"
        ],
        [
         2017,
         "9.9925"
        ],
        [
         2019,
         "9.9915"
        ],
        [
         2022,
         "9.9907"
        ],
        [
         2018,
         "9.9861"
        ]
       ],
       "datasetInfos": [],
       "dbfsResultPath": null,
       "isJsonSchema": true,
       "metadata": {},
       "overflow": false,
       "plotOptions": {
        "customPlotOptions": {},
        "displayType": "table",
        "pivotAggregation": null,
        "pivotColumns": null,
        "xColumns": null,
        "yColumns": null
       },
       "removedWidgets": [],
       "schema": [
        {
         "metadata": "{}",
         "name": "year",
         "type": "\"integer\""
        },
        {
         "metadata": "{}",
         "name": "amount_avg",
         "type": "\"decimal(14,4)\""
        }
       ],
       "type": "table"
      }
     },
     "output_type": "display_data"
    }
   ],
   "source": [
    "def analyze_payment_data(df: DataFrame, group_col: str, agg_funcs: list, aliases: list, titles: list):\n",
    "    \"\"\"\n",
    "    Analyze payment data by joining with the payment date DataFrame, grouping by the specified column, and applying aggregation functions.\n",
    "\n",
    "    Args:\n",
    "        df (DataFrame): DataFrame containing payment data.\n",
    "        group_col (str): Column to group by.\n",
    "        agg_funcs (list): List of aggregation functions (e.g., sum, avg).\n",
    "        aliases (list): List of aliases for the aggregated columns.\n",
    "        titles (list): List of titles for the results....\n",
    "\n",
    "    Returns:\n",
    "        None\n",
    "    \"\"\"\n",
    "    for agg_func, alias, title in zip(agg_funcs, aliases, titles):\n",
    "        result_df = df.join(payment_date_df, 'date_id')\\\n",
    "                      .groupBy(group_col)\\\n",
    "                      .agg(agg_func('amount').alias(alias))\\\n",
    "                      .orderBy(alias, ascending=False)\n",
    "        \n",
    "        # Display title and results\n",
    "        displayHTML(f\"<h3>{title}</h3>\")\n",
    "        display(result_df.limit(10))\n",
    "\n",
    "# Aggregation functions, their aliases, and titles\n",
    "agg_funcs = [sum, avg]\n",
    "aliases = ['amount_sum', 'amount_avg']\n",
    "titles = ['Total Amount', 'Average Amount']\n",
    "\n",
    "# Analyze spending by different time periods\n",
    "for group_col in ['month', 'quarter', 'year']:\n",
    "    analyze_payment_data(payment_df, group_col, agg_funcs, aliases, [f'Total Amount by {group_col.capitalize()}', f'Average Amount by {group_col.capitalize()}'])\n"
   ]
  },
  {
   "cell_type": "code",
   "execution_count": 0,
   "metadata": {
    "application/vnd.databricks.v1+cell": {
     "cellMetadata": {
      "byteLimit": 2048000,
      "rowLimit": 10000
     },
     "inputWidgets": {},
     "nuid": "544763ab-fb04-44c9-8493-9d70ca0eb828",
     "showTitle": false,
     "tableResultSettingsMap": {},
     "title": ""
    }
   },
   "outputs": [
    {
     "output_type": "display_data",
     "data": {
      "text/html": [
       "<h3>Average Amount by Age at Account Start (Members)</h3>"
      ]
     },
     "metadata": {
      "application/vnd.databricks.v1+output": {
       "addedWidgets": {},
       "arguments": {},
       "data": "<h3>Average Amount by Age at Account Start (Members)</h3>",
       "datasetInfos": [],
       "metadata": {},
       "removedWidgets": [],
       "textData": null,
       "type": "htmlSandbox"
      }
     },
     "output_type": "display_data"
    },
    {
     "output_type": "display_data",
     "data": {
      "text/html": [
       "<style scoped>\n",
       "  .ansiout {\n",
       "    display: block;\n",
       "    unicode-bidi: embed;\n",
       "    white-space: pre-wrap;\n",
       "    word-wrap: break-word;\n",
       "    word-break: break-all;\n",
       "    font-family: \"Menlo\", \"Monaco\", \"Consolas\", \"Ubuntu Mono\", \"Source Code Pro\", monospace;\n",
       "    font-size: 13px;\n",
       "    color: #555;\n",
       "    margin-left: 4px;\n",
       "    line-height: 19px;\n",
       "  }\n",
       "</style>\n",
       "<div class=\"ansiout\">+--------------------+----------+\n",
       "age_at_account_start|amount_avg|\n",
       "+--------------------+----------+\n",
       "                  31|    9.0000|\n",
       "                  65|    9.0000|\n",
       "                  53|    9.0000|\n",
       "                  34|    9.0000|\n",
       "                  28|    9.0000|\n",
       "                  27|    9.0000|\n",
       "                  26|    9.0000|\n",
       "                  44|    9.0000|\n",
       "                  12|    9.0000|\n",
       "                  22|    9.0000|\n",
       "                  47|    9.0000|\n",
       "                  52|    9.0000|\n",
       "                  13|    9.0000|\n",
       "                  16|    9.0000|\n",
       "                  20|    9.0000|\n",
       "                  40|    9.0000|\n",
       "                  57|    9.0000|\n",
       "                  54|    9.0000|\n",
       "                  48|    9.0000|\n",
       "                  19|    9.0000|\n",
       "+--------------------+----------+\n",
       "only showing top 20 rows\n",
       "\n",
       "</div>"
      ]
     },
     "metadata": {
      "application/vnd.databricks.v1+output": {
       "addedWidgets": {},
       "arguments": {},
       "data": "<div class=\"ansiout\">+--------------------+----------+\n|age_at_account_start|amount_avg|\n+--------------------+----------+\n|                  31|    9.0000|\n|                  65|    9.0000|\n|                  53|    9.0000|\n|                  34|    9.0000|\n|                  28|    9.0000|\n|                  27|    9.0000|\n|                  26|    9.0000|\n|                  44|    9.0000|\n|                  12|    9.0000|\n|                  22|    9.0000|\n|                  47|    9.0000|\n|                  52|    9.0000|\n|                  13|    9.0000|\n|                  16|    9.0000|\n|                  20|    9.0000|\n|                  40|    9.0000|\n|                  57|    9.0000|\n|                  54|    9.0000|\n|                  48|    9.0000|\n|                  19|    9.0000|\n+--------------------+----------+\nonly showing top 20 rows\n\n</div>",
       "datasetInfos": [],
       "metadata": {},
       "removedWidgets": [],
       "type": "html"
      }
     },
     "output_type": "display_data"
    },
    {
     "output_type": "display_data",
     "data": {
      "text/html": [
       "<h3>Total Amount by Age at Account Start (Members)</h3>"
      ]
     },
     "metadata": {
      "application/vnd.databricks.v1+output": {
       "addedWidgets": {},
       "arguments": {},
       "data": "<h3>Total Amount by Age at Account Start (Members)</h3>",
       "datasetInfos": [],
       "metadata": {},
       "removedWidgets": [],
       "textData": null,
       "type": "htmlSandbox"
      }
     },
     "output_type": "display_data"
    },
    {
     "output_type": "display_data",
     "data": {
      "text/html": [
       "<style scoped>\n",
       "  .ansiout {\n",
       "    display: block;\n",
       "    unicode-bidi: embed;\n",
       "    white-space: pre-wrap;\n",
       "    word-wrap: break-word;\n",
       "    word-break: break-all;\n",
       "    font-family: \"Menlo\", \"Monaco\", \"Consolas\", \"Ubuntu Mono\", \"Source Code Pro\", monospace;\n",
       "    font-size: 13px;\n",
       "    color: #555;\n",
       "    margin-left: 4px;\n",
       "    line-height: 19px;\n",
       "  }\n",
       "</style>\n",
       "<div class=\"ansiout\">+--------------------+----------+\n",
       "age_at_account_start|amount_sum|\n",
       "+--------------------+----------+\n",
       "                  21|    495810|\n",
       "                  23|    483822|\n",
       "                  27|    474696|\n",
       "                  26|    474336|\n",
       "                  20|    472068|\n",
       "                  25|    469791|\n",
       "                  22|    463383|\n",
       "                  19|    454761|\n",
       "                  24|    453078|\n",
       "                  18|    452502|\n",
       "                  28|    439605|\n",
       "                  29|    437130|\n",
       "                  15|    427977|\n",
       "                  16|    420561|\n",
       "                  32|    417780|\n",
       "                  31|    417006|\n",
       "                  17|    414765|\n",
       "                  30|    412236|\n",
       "                  33|    392409|\n",
       "                  34|    383904|\n",
       "+--------------------+----------+\n",
       "only showing top 20 rows\n",
       "\n",
       "</div>"
      ]
     },
     "metadata": {
      "application/vnd.databricks.v1+output": {
       "addedWidgets": {},
       "arguments": {},
       "data": "<div class=\"ansiout\">+--------------------+----------+\n|age_at_account_start|amount_sum|\n+--------------------+----------+\n|                  21|    495810|\n|                  23|    483822|\n|                  27|    474696|\n|                  26|    474336|\n|                  20|    472068|\n|                  25|    469791|\n|                  22|    463383|\n|                  19|    454761|\n|                  24|    453078|\n|                  18|    452502|\n|                  28|    439605|\n|                  29|    437130|\n|                  15|    427977|\n|                  16|    420561|\n|                  32|    417780|\n|                  31|    417006|\n|                  17|    414765|\n|                  30|    412236|\n|                  33|    392409|\n|                  34|    383904|\n+--------------------+----------+\nonly showing top 20 rows\n\n</div>",
       "datasetInfos": [],
       "metadata": {},
       "removedWidgets": [],
       "type": "html"
      }
     },
     "output_type": "display_data"
    }
   ],
   "source": [
    "def analyze_member_payment_data(df: DataFrame, group_col: str, agg_func: Column, alias: str, title: str) -> None:\n",
    "    \"\"\"\n",
    "    Analyze payment data for members by joining with the rider DataFrame, \n",
    "    grouping by the specified column, and applying an aggregation function.\n",
    "\n",
    "    Args:\n",
    "        df (DataFrame): DataFrame containing payment data...\n",
    "        group_col (str): Column to group by.\n",
    "        agg_func (Column): Aggregation function (avg, sum).....\n",
    "        alias (str): Alias for the aggregated column.\n",
    "        title (str): Title for the results.\n",
    "\n",
    "    Returns:\n",
    "        None\n",
    "    \"\"\"\n",
    "    result_df = df.join(rider_df, 'rider_id')\\\n",
    "                  .where(rider_df.is_member == True)\\\n",
    "                  .groupBy(group_col)\\\n",
    "                  .agg(agg_func('amount').alias(alias))\\\n",
    "                  .orderBy(alias, ascending=False)\n",
    "    \n",
    "    # Display title and results\n",
    "    displayHTML(f\"<h3>{title}</h3>\")\n",
    "    result_df.show()\n",
    "\n",
    "# Aggregation functions and their aliases\n",
    "agg_funcs = [avg, sum]\n",
    "aliases = ['amount_avg', 'amount_sum']\n",
    "\n",
    "# Analyze spending by members by age at account start\n",
    "titles = ['Average Amount by Age at Account Start (Members)', 'Total Amount by Age at Account Start (Members)']\n",
    "for agg_func, alias, title in zip(agg_funcs, aliases, titles):\n",
    "    analyze_member_payment_data(payment_df, 'age_at_account_start', agg_func, alias, title)\n"
   ]
  },
  {
   "cell_type": "markdown",
   "metadata": {
    "application/vnd.databricks.v1+cell": {
     "cellMetadata": {},
     "inputWidgets": {},
     "nuid": "cbda4068-daea-4260-a25b-fdabc782c5e8",
     "showTitle": false,
     "tableResultSettingsMap": {},
     "title": ""
    }
   },
   "source": [
    "## Extra Credit "
   ]
  },
  {
   "cell_type": "code",
   "execution_count": 0,
   "metadata": {
    "application/vnd.databricks.v1+cell": {
     "cellMetadata": {
      "byteLimit": 2048000,
      "rowLimit": 10000
     },
     "inputWidgets": {},
     "nuid": "4e0539bf-215a-4a7e-a872-7c79819825cd",
     "showTitle": false,
     "tableResultSettingsMap": {},
     "title": ""
    }
   },
   "outputs": [
    {
     "output_type": "display_data",
     "data": {
      "text/html": [
       "<h3>Average Spending per Member by Monthly Ride Count</h3>"
      ]
     },
     "metadata": {
      "application/vnd.databricks.v1+output": {
       "addedWidgets": {},
       "arguments": {},
       "data": "<h3>Average Spending per Member by Monthly Ride Count</h3>",
       "datasetInfos": [],
       "metadata": {},
       "removedWidgets": [],
       "textData": null,
       "type": "htmlSandbox"
      }
     },
     "output_type": "display_data"
    },
    {
     "output_type": "display_data",
     "data": {
      "text/html": [
       "<style scoped>\n",
       "  .ansiout {\n",
       "    display: block;\n",
       "    unicode-bidi: embed;\n",
       "    white-space: pre-wrap;\n",
       "    word-wrap: break-word;\n",
       "    word-break: break-all;\n",
       "    font-family: \"Menlo\", \"Monaco\", \"Consolas\", \"Ubuntu Mono\", \"Source Code Pro\", monospace;\n",
       "    font-size: 13px;\n",
       "    color: #555;\n",
       "    margin-left: 4px;\n",
       "    line-height: 19px;\n",
       "  }\n",
       "</style>\n",
       "<div class=\"ansiout\">+--------+-----+----------+---------+\n",
       "rider_id|month|avg_amount|num_rides|\n",
       "+--------+-----+----------+---------+\n",
       "    3897|    7|    9.0000|    26866|\n",
       "   52113|    7|    9.0000|    25668|\n",
       "   71138|    7|    9.0000|    25400|\n",
       "   71138|    8|    9.0000|    24100|\n",
       "    3897|    8|    9.0000|    22018|\n",
       "   52113|    8|    9.0000|    21948|\n",
       "   71138|    6|    9.0000|    21900|\n",
       "    3897|    6|    9.0000|    21210|\n",
       "   52113|    6|    9.0000|    20274|\n",
       "    4193|    7|    9.0000|    19028|\n",
       "   71138|    9|    9.0000|    18800|\n",
       "    3897|    9|    9.0000|    17776|\n",
       "   71138|    5|    9.0000|    17200|\n",
       "   27866|    7|    9.0000|    17160|\n",
       "    3897|    5|    9.0000|    16665|\n",
       "   52113|    9|    9.0000|    16554|\n",
       "    7667|    7|    9.0000|    16356|\n",
       "   37388|    7|    9.0000|    16131|\n",
       "    4193|    8|    9.0000|    15611|\n",
       "   27866|    6|    9.0000|    15400|\n",
       "+--------+-----+----------+---------+\n",
       "only showing top 20 rows\n",
       "\n",
       "</div>"
      ]
     },
     "metadata": {
      "application/vnd.databricks.v1+output": {
       "addedWidgets": {},
       "arguments": {},
       "data": "<div class=\"ansiout\">+--------+-----+----------+---------+\n|rider_id|month|avg_amount|num_rides|\n+--------+-----+----------+---------+\n|    3897|    7|    9.0000|    26866|\n|   52113|    7|    9.0000|    25668|\n|   71138|    7|    9.0000|    25400|\n|   71138|    8|    9.0000|    24100|\n|    3897|    8|    9.0000|    22018|\n|   52113|    8|    9.0000|    21948|\n|   71138|    6|    9.0000|    21900|\n|    3897|    6|    9.0000|    21210|\n|   52113|    6|    9.0000|    20274|\n|    4193|    7|    9.0000|    19028|\n|   71138|    9|    9.0000|    18800|\n|    3897|    9|    9.0000|    17776|\n|   71138|    5|    9.0000|    17200|\n|   27866|    7|    9.0000|    17160|\n|    3897|    5|    9.0000|    16665|\n|   52113|    9|    9.0000|    16554|\n|    7667|    7|    9.0000|    16356|\n|   37388|    7|    9.0000|    16131|\n|    4193|    8|    9.0000|    15611|\n|   27866|    6|    9.0000|    15400|\n+--------+-----+----------+---------+\nonly showing top 20 rows\n\n</div>",
       "datasetInfos": [],
       "metadata": {},
       "removedWidgets": [],
       "type": "html"
      }
     },
     "output_type": "display_data"
    }
   ],
   "source": [
    "# Avg spending per member by monthly ride count\n",
    "result_df = trip_df.join(payment_df, 'rider_id')\\\n",
    "    .select('rider_id', 'time_id', 'amount', 'trip_id')\\\n",
    "    .join(rider_df.where(rider_df.is_member == True), 'rider_id')\\\n",
    "    .withColumn('month', month('time_id'))\\\n",
    "    .groupBy('rider_id', 'month')\\\n",
    "    .agg(avg('amount').alias('avg_amount'), count('trip_id').alias('num_rides'))\\\n",
    "    .orderBy('num_rides', ascending=False)\n",
    "\n",
    "# Display title and results\n",
    "displayHTML(\"<h3>Average Spending per Member by Monthly Ride Count</h3>\")\n",
    "result_df.show()\n"
   ]
  },
  {
   "cell_type": "code",
   "execution_count": 0,
   "metadata": {
    "application/vnd.databricks.v1+cell": {
     "cellMetadata": {
      "byteLimit": 2048000,
      "rowLimit": 10000
     },
     "inputWidgets": {},
     "nuid": "6fb29adc-8e9a-4561-9066-6f993e58c333",
     "showTitle": false,
     "tableResultSettingsMap": {},
     "title": ""
    }
   },
   "outputs": [
    {
     "output_type": "display_data",
     "data": {
      "text/html": [
       "<h3>Average Spending per Member by Monthly Bike Usage</h3>"
      ]
     },
     "metadata": {
      "application/vnd.databricks.v1+output": {
       "addedWidgets": {},
       "arguments": {},
       "data": "<h3>Average Spending per Member by Monthly Bike Usage</h3>",
       "datasetInfos": [],
       "metadata": {},
       "removedWidgets": [],
       "textData": null,
       "type": "htmlSandbox"
      }
     },
     "output_type": "display_data"
    },
    {
     "output_type": "display_data",
     "data": {
      "text/html": [
       "<style scoped>\n",
       "  .ansiout {\n",
       "    display: block;\n",
       "    unicode-bidi: embed;\n",
       "    white-space: pre-wrap;\n",
       "    word-wrap: break-word;\n",
       "    word-break: break-all;\n",
       "    font-family: \"Menlo\", \"Monaco\", \"Consolas\", \"Ubuntu Mono\", \"Source Code Pro\", monospace;\n",
       "    font-size: 13px;\n",
       "    color: #555;\n",
       "    margin-left: 4px;\n",
       "    line-height: 19px;\n",
       "  }\n",
       "</style>\n",
       "<div class=\"ansiout\">+--------+-------+-----+----------+------------+\n",
       "rider_id|minutes|month|avg_amount|avg_duration|\n",
       "+--------+-------+-----+----------+------------+\n",
       "    1088|  55944|    6|    9.0000|   3356649.0|\n",
       "   53843|  55691|    6|    9.0000|   3341501.0|\n",
       "   64320|  53921|    5|    9.0000|   3235296.0|\n",
       "   58650|  52701|    6|    9.0000|   3162083.0|\n",
       "   43851|  49107|    7|    9.0000|   2946429.0|\n",
       "   44213|  47010|    6|    9.0000|   2820651.0|\n",
       "   31759|  41645|    7|    9.0000|   2498731.0|\n",
       "   39724|  41629|    8|    9.0000|   2497750.0|\n",
       "   22453|  40724|    7|    9.0000|   2443476.0|\n",
       "   23373|  40705|   10|    9.0000|   2442301.0|\n",
       "   41276|  40320|    6|    9.0000|   2419234.0|\n",
       "   73511|  39587|    7|    9.0000|   2375231.0|\n",
       "   69222|  39439|    6|    9.0000|   2366349.0|\n",
       "   68654|  38963|    4|    9.0000|   2337785.0|\n",
       "   35099|  38685|    7|    9.0000|   2321116.0|\n",
       "   55813|  38418|    6|    9.0000|   2305116.0|\n",
       "   16270|  36542|    6|    9.0000|   2192529.0|\n",
       "   21888|  35622|    4|    9.0000|   2137331.0|\n",
       "   48368|  34894|    5|    9.0000|   2093673.0|\n",
       "   64910|  34470|    6|    9.0000|   2068244.0|\n",
       "+--------+-------+-----+----------+------------+\n",
       "only showing top 20 rows\n",
       "\n",
       "</div>"
      ]
     },
     "metadata": {
      "application/vnd.databricks.v1+output": {
       "addedWidgets": {},
       "arguments": {},
       "data": "<div class=\"ansiout\">+--------+-------+-----+----------+------------+\n|rider_id|minutes|month|avg_amount|avg_duration|\n+--------+-------+-----+----------+------------+\n|    1088|  55944|    6|    9.0000|   3356649.0|\n|   53843|  55691|    6|    9.0000|   3341501.0|\n|   64320|  53921|    5|    9.0000|   3235296.0|\n|   58650|  52701|    6|    9.0000|   3162083.0|\n|   43851|  49107|    7|    9.0000|   2946429.0|\n|   44213|  47010|    6|    9.0000|   2820651.0|\n|   31759|  41645|    7|    9.0000|   2498731.0|\n|   39724|  41629|    8|    9.0000|   2497750.0|\n|   22453|  40724|    7|    9.0000|   2443476.0|\n|   23373|  40705|   10|    9.0000|   2442301.0|\n|   41276|  40320|    6|    9.0000|   2419234.0|\n|   73511|  39587|    7|    9.0000|   2375231.0|\n|   69222|  39439|    6|    9.0000|   2366349.0|\n|   68654|  38963|    4|    9.0000|   2337785.0|\n|   35099|  38685|    7|    9.0000|   2321116.0|\n|   55813|  38418|    6|    9.0000|   2305116.0|\n|   16270|  36542|    6|    9.0000|   2192529.0|\n|   21888|  35622|    4|    9.0000|   2137331.0|\n|   48368|  34894|    5|    9.0000|   2093673.0|\n|   64910|  34470|    6|    9.0000|   2068244.0|\n+--------+-------+-----+----------+------------+\nonly showing top 20 rows\n\n</div>",
       "datasetInfos": [],
       "metadata": {},
       "removedWidgets": [],
       "type": "html"
      }
     },
     "output_type": "display_data"
    }
   ],
   "source": [
    "# Avg spending per member by monthly bike usage\n",
    "result_df = trip_df.join(rider_df, 'rider_id')\\\n",
    "    .join(payment_df, 'rider_id')\\\n",
    "    .filter(rider_df.is_member)\\\n",
    "    .withColumn('month', month('time_id'))\\\n",
    "    .withColumn('minutes', (trip_df.duration / 60).cast('int'))\\\n",
    "    .groupBy('rider_id', 'minutes', 'month')\\\n",
    "    .agg(\n",
    "        avg('amount').alias('avg_amount'),\n",
    "        avg('duration').alias('avg_duration')\n",
    "    )\\\n",
    "    .orderBy('avg_duration', ascending=False)\n",
    "\n",
    "# Display title and results\n",
    "displayHTML(\"<h3>Average Spending per Member by Monthly Bike Usage</h3>\")\n",
    "result_df.show()\n",
    "#"
   ]
  }
 ],
 "metadata": {
  "application/vnd.databricks.v1+notebook": {
   "dashboards": [],
   "environmentMetadata": null,
   "language": "python",
   "notebookMetadata": {
    "mostRecentlyExecutedCommandWithImplicitDF": {
     "commandId": 254777733165859,
     "dataframes": [
      "_sqldf"
     ]
    },
    "pythonIndentUnit": 4
   },
   "notebookName": "adls_bikeshare_project_IsmaelDawuda",
   "widgets": {}
  },
  "language_info": {
   "name": "python"
  }
 },
 "nbformat": 4,
 "nbformat_minor": 0
}
